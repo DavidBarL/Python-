{
 "cells": [
  {
   "cell_type": "code",
   "execution_count": 1,
   "metadata": {},
   "outputs": [
    {
     "name": "stdout",
     "output_type": "stream",
     "text": [
      "hello world\n"
     ]
    }
   ],
   "source": [
    "print('hello world')"
   ]
  },
  {
   "cell_type": "code",
   "execution_count": 2,
   "metadata": {
    "scrolled": true
   },
   "outputs": [
    {
     "name": "stdout",
     "output_type": "stream",
     "text": [
      "今天天气真不错捏！\n"
     ]
    }
   ],
   "source": [
    "hello = '今天天气真不错捏！'\n",
    "print(hello)"
   ]
  },
  {
   "cell_type": "code",
   "execution_count": 4,
   "metadata": {},
   "outputs": [
    {
     "name": "stdout",
     "output_type": "stream",
     "text": [
      "小周\n",
      "小明\n",
      "小明\n"
     ]
    }
   ],
   "source": [
    "kid = '小明'\n",
    "student = kid\n",
    "prettyboy = kid\n",
    "kid = '小周'\n",
    "\n",
    "print(kid)\n",
    "print(student)\n",
    "print(prettyboy)"
   ]
  },
  {
   "cell_type": "code",
   "execution_count": 5,
   "metadata": {},
   "outputs": [
    {
     "name": "stdout",
     "output_type": "stream",
     "text": [
      "3\n"
     ]
    }
   ],
   "source": [
    "var = 1\n",
    "var = var+1\n",
    "var += 1\n",
    "print(var)"
   ]
  },
  {
   "cell_type": "code",
   "execution_count": 6,
   "metadata": {},
   "outputs": [
    {
     "name": "stdout",
     "output_type": "stream",
     "text": [
      "嘿嘿嘿嘿\n",
      "            这就像写一封信一样捏，真是太好玩了\n",
      "            希望能够让你感到快乐！\n",
      "            然后将愿望清单一一实现。\n"
     ]
    }
   ],
   "source": [
    "letter = '''嘿嘿嘿嘿\n",
    "            这就像写一封信一样捏，真是太好玩了\n",
    "            希望能够让你感到快乐！\n",
    "            然后将愿望清单一一实现。'''\n",
    "print(letter)#当然如果你用单引号就要用\\n来换行，但是这样不直观"
   ]
  },
  {
   "cell_type": "code",
   "execution_count": 7,
   "metadata": {},
   "outputs": [
    {
     "name": "stdout",
     "output_type": "stream",
     "text": [
      "He said : 'OK, I will go now'\n"
     ]
    }
   ],
   "source": [
    "#字符串内容里面有单引号，那么我们在定义这个字符串的时候，就应该用双引号。如下：\n",
    "hello = \"He said : 'OK, I will go now'\"\n",
    "print(hello)"
   ]
  },
  {
   "cell_type": "code",
   "execution_count": 9,
   "metadata": {},
   "outputs": [
    {
     "name": "stdout",
     "output_type": "stream",
     "text": [
      "He said : \"OK, I will go now\"\n",
      "He said : 'OK, \"I will go now\"\n"
     ]
    }
   ],
   "source": [
    "#字符串内容里面有双引号，那么我们在定义这个字符串的时候，就应该用单引号。如下：\n",
    "hello = 'He said : \"OK, I will go now\"'\n",
    "print(hello)\n",
    "#如果我们要定义的 字符串内容里面 既有双引号，也有单引号\n",
    "#比如：字符串 He said : 'OK, \"I will go now\"\n",
    "#那么我们在定义这个字符串的时候，就应该用三引号。如下：\n",
    "hello = '''He said : 'OK, \"I will go now\"'''\n",
    "print(hello)"
   ]
  },
  {
   "cell_type": "code",
   "execution_count": 10,
   "metadata": {},
   "outputs": [
    {
     "name": "stdout",
     "output_type": "stream",
     "text": [
      "你好\n"
     ]
    }
   ],
   "source": [
    "hello = '刘总你好啊'\n",
    "print(hello[2:4])"
   ]
  },
  {
   "cell_type": "code",
   "execution_count": 11,
   "metadata": {},
   "outputs": [
    {
     "name": "stdout",
     "output_type": "stream",
     "text": [
      "5\n"
     ]
    }
   ],
   "source": [
    "var = '特朗普总统'\n",
    "lenth = len(var)\n",
    "print(lenth)"
   ]
  },
  {
   "cell_type": "code",
   "execution_count": 13,
   "metadata": {},
   "outputs": [
    {
     "name": "stdout",
     "output_type": "stream",
     "text": [
      "把求职者带到3号会议室\n",
      "请求职者完成答卷\n",
      "让测试经理来完成答卷\n",
      "让技术总监面试求职者\n",
      "<class 'function'>\n"
     ]
    }
   ],
   "source": [
    "def interview():\n",
    "    print(\"把求职者带到3号会议室\")\n",
    "    print(\"请求职者完成答卷\")\n",
    "    print(\"让测试经理来完成答卷\")\n",
    "    print(\"让技术总监面试求职者\")\n",
    "    #def 是关键字表示定义一个函数后面是函数的名字，紧接着后面需要一个括号，\n",
    "    #这个括号中间，根据需要还可以有参数。\n",
    "    #最后是一个冒号，下面的缩进的代码表示这个函数名字代表的具体动作是什么，\n",
    "    #称之为函数体\n",
    "interview()\n",
    "print(type(interview))"
   ]
  },
  {
   "cell_type": "code",
   "execution_count": 14,
   "metadata": {},
   "outputs": [
    {
     "name": "stdout",
     "output_type": "stream",
     "text": [
      "求职者是王小五\n",
      "把求职者带到3号会议室\n",
      "请求职者完成答卷\n",
      "让测试经理来面试求职者\n",
      "让技术总监面试求职者\n"
     ]
    }
   ],
   "source": [
    "def interview(interviewee):\n",
    "    print(\"求职者是\" + interviewee)#函数调用括号里面的内容 称之为函数的参数。\n",
    "    print(\"把求职者带到3号会议室\")#有的函数要完成功能，需要告诉它一些信息。\n",
    "    print(\"请求职者完成答卷\")#参数的作用就是：提供函数完成功能所必须的信息\n",
    "    print(\"让测试经理来面试求职者\")\n",
    "    print(\"让技术总监面试求职者\")\n",
    "\n",
    "interview('王小五')"
   ]
  },
  {
   "cell_type": "code",
   "execution_count": 15,
   "metadata": {},
   "outputs": [
    {
     "name": "stdout",
     "output_type": "stream",
     "text": [
      "求职者是王小五\n",
      "把求职者带到4号会议室\n",
      "请求职者完成答卷\n",
      "让测试经理来面试求职者\n",
      "让技术总监面试求职者\n"
     ]
    }
   ],
   "source": [
    "def interview(interviewee,room):\n",
    "    print(\"求职者是\" + interviewee)\n",
    "    print(\"把求职者带到\" + room)\n",
    "    print(\"请求职者完成答卷\")\n",
    "    print(\"让测试经理来面试求职者\")\n",
    "    print(\"让技术总监面试求职者\")\n",
    "\n",
    "interview('王小五','4号会议室')"
   ]
  },
  {
   "cell_type": "code",
   "execution_count": 17,
   "metadata": {},
   "outputs": [
    {
     "name": "stdout",
     "output_type": "stream",
     "text": [
      "5\n"
     ]
    }
   ],
   "source": [
    "def squarep(num1,num2):\n",
    "    return num1**2 + num2**2\n",
    "    print('这条语句在return后面，不会执行') \n",
    "\n",
    "ret = squarep(1,2)\n",
    "print(ret) "
   ]
  },
  {
   "cell_type": "code",
   "execution_count": 23,
   "metadata": {
    "scrolled": true
   },
   "outputs": [
    {
     "name": "stdout",
     "output_type": "stream",
     "text": [
      "5\n",
      "5\n",
      "None\n"
     ]
    }
   ],
   "source": [
    "def func1(num1,num2):\n",
    "    return num1**2 + num2**2\n",
    "print(func1(1,2))\n",
    "\n",
    "def func2(num1,num2):\n",
    "    print(num1**2 + num2**2)\n",
    "print(func2(1,2))"
   ]
  },
  {
   "cell_type": "code",
   "execution_count": 27,
   "metadata": {},
   "outputs": [
    {
     "name": "stdout",
     "output_type": "stream",
     "text": [
      "1\n",
      "2\n",
      "[7, 8, 9]\n",
      "[7, 8, 9]\n",
      "7\n",
      "[1, 2, 3.14]\n",
      "[1, 2, 3.14]\n",
      "[7, 8]\n"
     ]
    }
   ],
   "source": [
    "a = [1,2,3.14,'hello',[7,8,9]]#列表 \n",
    "print(a[0])\n",
    "print(a[1])\n",
    "print(a[4])\n",
    "print(a[-1])\n",
    "print(a[-1][0])\n",
    "\n",
    "print(a[0:3])\n",
    "print(a[:3])\n",
    "print(a[-1][:2])"
   ]
  },
  {
   "cell_type": "code",
   "execution_count": 31,
   "metadata": {},
   "outputs": [
    {
     "name": "stdout",
     "output_type": "stream",
     "text": [
      "[1, 2, 3.14, 'hello', [7, 8, 9]]\n",
      "['你好', 2, 3.14, 'hello', [7, 8, 9]]\n",
      "['你好', 2, 3.14, 'hello', [7, 8, 'Kanye West!']]\n",
      "[1, 2, 1006000, 'hello', [7, 8, 9]]\n"
     ]
    }
   ],
   "source": [
    "#改变列表内容---列表List\n",
    "a = [1,2,3.14,'hello',[7,8,9]]\n",
    "print(a)\n",
    "\n",
    "a[0] = '你好'\n",
    "print(a)\n",
    "a[-1][-1] = 'Kanye West!'嚄\n",
    "print(a)\n",
    "\n",
    "#列表的元素还可以填写表达式，解释器会自动计算结果，放入列表中\n",
    "var = 100\n",
    "a = [1,2,var**3 + 6000,'hello',[7,8,9]]\n",
    "print(a)"
   ]
  },
  {
   "cell_type": "code",
   "execution_count": 34,
   "metadata": {},
   "outputs": [
    {
     "name": "stdout",
     "output_type": "stream",
     "text": [
      "True\n",
      "False\n"
     ]
    }
   ],
   "source": [
    "#元组---Tuple,和列表十分相似，除了一点：元组的内容是不能改变的\n",
    "#定义元组用圆括号来表示（）\n",
    "#如果元组中只有一个元素，必须要在后面加上逗号，像这样a = (1,)\n",
    "#否则a = (1)就成了a是数字1，而不是包含数字1的元组\n",
    "#定义元组还可以去掉圆括号，像a = 1,2,3,'hello'\n",
    "#如果只有一个元素，必须要在后面加上逗号，a = 1,\n",
    "#判断元素是否在列表或者元组中\n",
    "a = (1, 2, 3.14, 'hello', [7,8,9])\n",
    "print(1 in a)\n",
    "print(2 not in a)"
   ]
  },
  {
   "cell_type": "code",
   "execution_count": 35,
   "metadata": {},
   "outputs": [
    {
     "name": "stdout",
     "output_type": "stream",
     "text": [
      "1 2\n",
      "李逵 33\n"
     ]
    }
   ],
   "source": [
    "#多个变量同时赋值\n",
    "x,y = (1,2)#x的值为1，y的值为2\n",
    "print(x,y)   \n",
    "\n",
    "name, age = ['李逵', 33]#name的值为'李逵'，age的值为33\n",
    "print(name,age)\n",
    "#但是注意，这样赋值，变量的个数一定要和列表/元组中元素的个数相等。"
   ]
  },
  {
   "cell_type": "code",
   "execution_count": 38,
   "metadata": {},
   "outputs": [
    {
     "name": "stdout",
     "output_type": "stream",
     "text": [
      "True\n",
      "False\n",
      "False\n"
     ]
    }
   ],
   "source": [
    "#产生布尔值的表达式就是布尔表达式\n",
    "#（1）是否相等,用==连接两个比较对象\n",
    "print(1==1)\n",
    "print(1==2)\n",
    "print(1=='1')"
   ]
  },
  {
   "cell_type": "code",
   "execution_count": 40,
   "metadata": {},
   "outputs": [
    {
     "name": "stdout",
     "output_type": "stream",
     "text": [
      "False\n",
      "True\n",
      "True\n"
     ]
    }
   ],
   "source": [
    "#（2）是否不相等，用！=连接两个比较对象\n",
    "print(1!=1)\n",
    "print(1!=2)\n",
    "print(1!='1')"
   ]
  },
  {
   "cell_type": "code",
   "execution_count": 42,
   "metadata": {},
   "outputs": [
    {
     "name": "stdout",
     "output_type": "stream",
     "text": [
      "False\n",
      "False\n",
      "True\n"
     ]
    }
   ],
   "source": [
    "#（3）是否大于，用>连接比较对象，注意不能比较数值型和字符串型的对象\n",
    "print(1>1)\n",
    "print(2>2)\n",
    "print(1>0)"
   ]
  },
  {
   "cell_type": "code",
   "execution_count": 44,
   "metadata": {},
   "outputs": [
    {
     "name": "stdout",
     "output_type": "stream",
     "text": [
      "True\n",
      "True\n",
      "False\n"
     ]
    }
   ],
   "source": [
    "#（4）是否大于等于，用>=连接。小于和小于等于同理可得。\n",
    "print(1>=1)\n",
    "print(2>=2)\n",
    "print(1>=4)"
   ]
  },
  {
   "cell_type": "code",
   "execution_count": 46,
   "metadata": {},
   "outputs": [
    {
     "name": "stdout",
     "output_type": "stream",
     "text": [
      "True\n",
      "False\n",
      "False\n",
      "False\n"
     ]
    }
   ],
   "source": [
    "#有时候条件表达式还可以组合成一个更大的表达式\n",
    "#条件表达式主要有3种组合关系\n",
    "#（1）且的条件组合，这种关系用and关键字连接\n",
    "#这种组合，只有表达式1和表达式2都成立（也就是计算结果都为True），\n",
    "#最终的结果才成立(为True)\n",
    "print(True and True)    # 结果为 True\n",
    "print(True and False)   # 结果为 False\n",
    "print(False and True)    # 结果为 False\n",
    "print(False and False)   # 结果为 False"
   ]
  },
  {
   "cell_type": "code",
   "execution_count": 48,
   "metadata": {},
   "outputs": [
    {
     "name": "stdout",
     "output_type": "stream",
     "text": [
      "True\n",
      "False\n",
      "False\n",
      "False\n",
      "False\n"
     ]
    }
   ],
   "source": [
    "num1 = 5\n",
    "str1 = 'ok'\n",
    "print(num1 > 4 and str1 == 'ok')   # 结果为 True\n",
    "print(num1 > 4 and str1 == 'bad')  # 结果为 False\n",
    "print(num1 > 6 and str1 == 'ok')   # 结果为 False\n",
    "print(num1 > 6 and str1 == 'bad')  # 结果为 False\n",
    "\n",
    "print(num1 > 4 and str1 == 'ok' and num1 > 5) # 结果为 False"
   ]
  },
  {
   "cell_type": "code",
   "execution_count": 49,
   "metadata": {},
   "outputs": [
    {
     "name": "stdout",
     "output_type": "stream",
     "text": [
      "True\n",
      "True\n",
      "True\n",
      "False\n",
      "True\n",
      "True\n",
      "True\n",
      "False\n",
      "True\n",
      "False\n"
     ]
    }
   ],
   "source": [
    "#（2）或的条件组合，只要有一个成立就为true，都不成立才为false\n",
    "print(True or True)    # 结果为 True\n",
    "print(True or False)   # 结果为 True\n",
    "print(False or True)    # 结果为 True\n",
    "print(False or False)   # 结果为 False\n",
    "\n",
    "num1 = 5\n",
    "str1 = 'ok'\n",
    "print(num1 > 4  or  str1 == 'ok')   # 结果为 True\n",
    "print(num1 > 4  or  str1 == 'bad')  # 结果为 True\n",
    "print(num1 > 6  or  str1 == 'ok')   # 结果为 True\n",
    "print(num1 > 6  or  str1 == 'bad')  # 结果为 False\n",
    "\n",
    "print(num1 > 6  or  str1 == 'ok' or  num1 != 5)  # 结果为 True\n",
    "print(num1 > 6  or  str1 == 'sk' or  num1 != 5)  # 结果为 False"
   ]
  },
  {
   "cell_type": "code",
   "execution_count": 50,
   "metadata": {},
   "outputs": [
    {
     "name": "stdout",
     "output_type": "stream",
     "text": [
      "True\n"
     ]
    }
   ],
   "source": [
    "#如果and和or一起使用，注意是先计算and部分，其结果再和or一起计算\n",
    "print(6 > 5  or  'sk' == 'sk' and  4 == 5)"
   ]
  },
  {
   "cell_type": "code",
   "execution_count": 51,
   "metadata": {},
   "outputs": [
    {
     "name": "stdout",
     "output_type": "stream",
     "text": [
      "False\n"
     ]
    }
   ],
   "source": [
    "#当然也可以用括号先计算前面的or部分\n",
    "print((6 > 5  or  'sk' == 'sk') and  4 == 5)"
   ]
  },
  {
   "cell_type": "code",
   "execution_count": 52,
   "metadata": {},
   "outputs": [
    {
     "name": "stdout",
     "output_type": "stream",
     "text": [
      "True\n"
     ]
    }
   ],
   "source": [
    "#（3）not的条件组合，这种组合就是把后面的布尔表达式的结果反过来\n",
    "#这种组合关系使用not关键字\n",
    "#如果not、and和or一起使用，注意是先计算not，再计算and部分，最后再计算or\n",
    "print(not 4 > 6  or  'sk' == 'ok' and  4 > 3)"
   ]
  },
  {
   "cell_type": "code",
   "execution_count": 53,
   "metadata": {},
   "outputs": [],
   "source": [
    "def registerUser():\n",
    "    phone = input('请输入你的手机号码(不超过11个字符)：')\n",
    "    if len(phone) > 11:\n",
    "        print('输入错误！手机号码超过了11个字符')        \n",
    "        print('请重新输入！')\n",
    "    print('函数结束')#这段话是不管条件成不成立都会打印，因为它在缩进外面\n",
    "    \n",
    "#如果if关键字后面的条件对应的表达式运算结果为True，就表示条件成立，\n",
    "#就去执行下面缩进的代码。"
   ]
  },
  {
   "cell_type": "code",
   "execution_count": 55,
   "metadata": {},
   "outputs": [],
   "source": [
    "def registerUser():\n",
    "    phone = input('请输入你的手机号码(不超过11个字符)：')\n",
    "    if len(phone) > 11:\n",
    "        print('输入错误！手机号码超过了11个字符')\n",
    "    else:\n",
    "        print('手机号码输入正确')    \n",
    "    \n",
    "    print('函数结束')\n",
    "#if ... else 构成了一种非此即彼的判断关系"
   ]
  },
  {
   "cell_type": "code",
   "execution_count": 56,
   "metadata": {},
   "outputs": [],
   "source": [
    "def registerUser():\n",
    "    phone = input('请输入你的手机号码(不超过11个字符)：')\n",
    "    if len(phone) > 11:\n",
    "        print('输入错误！手机号码超过了11个字符')\n",
    "    # 还需要进一步判断 输入的是否全数字\n",
    "    elif not phone.isdigit():# isdigit 是字符串对象的方法\n",
    "        print('输入错误！手机号码必须全是数字')\n",
    "    else:\n",
    "        print('手机号码输入正确')        \n",
    "    \n",
    "    print('函数结束')"
   ]
  },
  {
   "cell_type": "code",
   "execution_count": 57,
   "metadata": {},
   "outputs": [],
   "source": [
    "def registerUser():\n",
    "    phone = input('请输入你的手机号码(不超过11个字符)：')\n",
    "    if len(phone) > 11:\n",
    "        print('输入错误！手机号码超过了11个字符')\n",
    "    # 还需要进一步判断 输入的是否全数字\n",
    "    elif not phone.isdigit(): \n",
    "        print('输入错误！手机号码必须全是数字')\n",
    "    # 判断是否以数字1 开头\n",
    "    elif not phone.startswith('1'): # startswith 是字符串对象的方法\n",
    "        print('输入错误！手机号码必须以数字1开头')\n",
    "    else:\n",
    "        print('手机号码输入正确')  \n",
    "    \n",
    "    print('函数结束')\n",
    "#根据实际需求，elif可以无限量的增加下去"
   ]
  },
  {
   "cell_type": "code",
   "execution_count": 58,
   "metadata": {},
   "outputs": [],
   "source": [
    "def charge(miles):\n",
    "    if miles <=3:\n",
    "        print('20 元/每公里')\n",
    "        unit = 20\n",
    "    elif miles <=5:   # 当不满足 miles <=3 的时候\n",
    "        print('15 元/每公里')\n",
    "        unit = 15\n",
    "    elif miles <=8:   # 当不满足  miles <=3 也不满足miles <=5的时候\n",
    "        print('12 元/每公里')\n",
    "        unit = 12\n",
    "    else:           # 当不满足miles <=3 也不满足miles <=5也不满足miles <=8的时候\n",
    "        print('10 元/每公里')\n",
    "        unit = 10\n",
    "    \n",
    "    return miles*unit"
   ]
  },
  {
   "cell_type": "code",
   "execution_count": 59,
   "metadata": {},
   "outputs": [],
   "source": [
    "#条件嵌套判断\n",
    "def charge(miles, duration):\n",
    "    if miles <= 3:\n",
    "        if  duration <= 1:\n",
    "            print('20 元/每公里')\n",
    "            return miles*20\n",
    "        else:\n",
    "            print('22 元/每公里')\n",
    "            return miles*22\n",
    "    elif miles > 3:\n",
    "        if  duration <= 1:\n",
    "            print('15 元/每公里')\n",
    "            return miles*15\n",
    "        else:\n",
    "            print('18 元/每公里')\n",
    "            return miles*18"
   ]
  },
  {
   "cell_type": "code",
   "execution_count": 60,
   "metadata": {},
   "outputs": [],
   "source": [
    "#if语句后面也可以没有 else 或者 elif\n",
    "def charge(miles, isKing):\n",
    "    # 如果乘客是国王，就可以免费\n",
    "    if isKing:\n",
    "        return 0\n",
    "\n",
    "    if miles <=3:\n",
    "        print('20 元/每公里')\n",
    "        return miles*20\n",
    "    else:\n",
    "        print('15 元/每公里')\n",
    "        return miles*15"
   ]
  },
  {
   "cell_type": "code",
   "execution_count": 1,
   "metadata": {},
   "outputs": [
    {
     "name": "stdout",
     "output_type": "stream",
     "text": [
      "[7, 6, 5, 4, 3, 2, 1]\n"
     ]
    }
   ],
   "source": [
    "#对象的方法\n",
    "# var1 是一个列表对象\n",
    "var1 = [1,2,3,4,5,6,7]\n",
    "\n",
    "# 列表对象都有 reverse方法\n",
    "var1.reverse()\n",
    "print(var1)\n",
    "#对象的方法是和这个对象类型紧密相关的。\n",
    "#对象是什么类型，就决定了对象有哪些方法。"
   ]
  },
  {
   "cell_type": "code",
   "execution_count": 3,
   "metadata": {},
   "outputs": [
    {
     "name": "stdout",
     "output_type": "stream",
     "text": [
      "2\n"
     ]
    }
   ],
   "source": [
    "#字符串的方法\n",
    "#count 方法可以返回字符串对象包含了多少个参数指定的字符串\n",
    "print('我们今天不去上学，我们去踢足球'.count('我们'))"
   ]
  },
  {
   "cell_type": "code",
   "execution_count": 7,
   "metadata": {},
   "outputs": [
    {
     "name": "stdout",
     "output_type": "stream",
     "text": [
      "0\n"
     ]
    }
   ],
   "source": [
    "#find方法会在字符串中查找参数子字符串，并返回该参数字符串在其中第一个出现的位置索引\n",
    "str1 = '我们今天不去上学，我们去踢足球'\n",
    "\n",
    "# 返回 0 ， str1字符串中有两个 '我们'\n",
    "# find返回的是第一个 '我们' 的索引 0\n",
    "pos1 = str1.find('我们')\n",
    "print(pos1)"
   ]
  },
  {
   "cell_type": "code",
   "execution_count": 8,
   "metadata": {},
   "outputs": [
    {
     "name": "stdout",
     "output_type": "stream",
     "text": [
      "9\n"
     ]
    }
   ],
   "source": [
    "str1 = '我们今天不去上学，我们去踢足球'\n",
    "\n",
    "# 第2个参数5， 表示从索引5的位置开始往后查找\n",
    "# 返回的是后面我们的索引9\n",
    "pos1 = str1.find('我们',5)\n",
    "print(pos1)"
   ]
  },
  {
   "cell_type": "code",
   "execution_count": 9,
   "metadata": {},
   "outputs": [
    {
     "name": "stdout",
     "output_type": "stream",
     "text": [
      "['小张：79 ', ' 小李：88 ', ' 小赵：83']\n"
     ]
    }
   ],
   "source": [
    "#split是我们常用的方法，经常用来从字符串中截取出我们想要的信息。\n",
    "#split方法以参数字符串为分割符，将字符串切割为多个字符串，\n",
    "#作为元素存入一个列表，并返回这个列表。\n",
    "str1 = '小张：79 | 小李：88 | 小赵：83'\n",
    "pos1 = str1.split('|')\n",
    "print(pos1)\n",
    "#大家要注意，分隔符本身在切割后，会被丢弃掉，所以切割后的字符串中不会有分隔符"
   ]
  },
  {
   "cell_type": "code",
   "execution_count": 10,
   "metadata": {
    "scrolled": true
   },
   "outputs": [
    {
     "name": "stdout",
     "output_type": "stream",
     "text": [
      "['', '小王  10000元', '小李  20000元', '小徐  15000元']\n"
     ]
    }
   ],
   "source": [
    "#字符串对象还有一个splitlines方法也比较常用，就是把字符串按换行符进行切割，比如\n",
    "salary = '''\n",
    "小王  10000元\n",
    "小李  20000元\n",
    "小徐  15000元\n",
    "'''\n",
    "print(salary.splitlines())"
   ]
  },
  {
   "cell_type": "code",
   "execution_count": 13,
   "metadata": {
    "scrolled": true
   },
   "outputs": [
    {
     "data": {
      "text/plain": [
       "'小张：79 | 小李：88 | 小赵：83'"
      ]
     },
     "execution_count": 13,
     "metadata": {},
     "output_type": "execute_result"
    }
   ],
   "source": [
    "#join 方法和 split方法正好相反\n",
    "#join 是将列表中的字符串元素以某字符串为连接符，连接为一个字符串\n",
    "'|'.join([\n",
    "    '小张：79 ',\n",
    "    ' 小李：88 ',\n",
    "    ' 小赵：83'\n",
    "])"
   ]
  },
  {
   "cell_type": "code",
   "execution_count": 14,
   "metadata": {},
   "outputs": [
    {
     "data": {
      "text/plain": [
       "'小  李：88'"
      ]
     },
     "execution_count": 14,
     "metadata": {},
     "output_type": "execute_result"
    }
   ],
   "source": [
    "#strip方法可以将字符串前面和后面的空格删除，但是不会删除字符串中间的空格\n",
    "'      小  李：88       '.strip()\n",
    "\n",
    "#返回的就是'小  李：88'，去掉了前后的空格，但是中间的空格不会去掉"
   ]
  },
  {
   "cell_type": "code",
   "execution_count": 15,
   "metadata": {},
   "outputs": [
    {
     "data": {
      "text/plain": [
       "'小  李：88       '"
      ]
     },
     "execution_count": 15,
     "metadata": {},
     "output_type": "execute_result"
    }
   ],
   "source": [
    "#lstrip方法将字符串前面(左边)的空格删除，但是不会删除字符串中间和右边的空格\n",
    "'      小  李：88       '.lstrip()"
   ]
  },
  {
   "cell_type": "code",
   "execution_count": 16,
   "metadata": {},
   "outputs": [
    {
     "data": {
      "text/plain": [
       "'      小  李：88'"
      ]
     },
     "execution_count": 16,
     "metadata": {},
     "output_type": "execute_result"
    }
   ],
   "source": [
    "#rstrip方法将字符串后面(右边)的空格删除，但是不会删除字符串中间和左边的空格\n",
    "'      小  李：88       '.rstrip()"
   ]
  },
  {
   "cell_type": "code",
   "execution_count": 18,
   "metadata": {},
   "outputs": [
    {
     "name": "stdout",
     "output_type": "stream",
     "text": [
      "他们今天不去上学，他们去踢足球\n"
     ]
    }
   ],
   "source": [
    "#replace也是常用的方法，用来替换字符串里面所有指定的子字符串为另一个字符串\n",
    "str1 = '我们今天不去上学，我们去踢足球'\n",
    "str1 = str1.replace('我们', '他们')\n",
    "print(str1)"
   ]
  },
  {
   "cell_type": "code",
   "execution_count": 19,
   "metadata": {},
   "outputs": [
    {
     "name": "stdout",
     "output_type": "stream",
     "text": [
      "我们今天不去上学，我们去踢足球\n",
      "他们今天不去上学，他们去踢足球\n"
     ]
    }
   ],
   "source": [
    "str1 = '我们今天不去上学，我们去踢足球'\n",
    "str2 = str1.replace('我们', '他们')\n",
    "print(str1)\n",
    "print(str2)"
   ]
  },
  {
   "cell_type": "code",
   "execution_count": 21,
   "metadata": {},
   "outputs": [
    {
     "name": "stdout",
     "output_type": "stream",
     "text": [
      "True\n",
      "False\n"
     ]
    }
   ],
   "source": [
    "#startswith方法检查字符串是否以参数指定的字符串开头，如果是，返回True，否则返回False\n",
    "#endswith方法检查字符串是否以指定的字符串结尾，如果是，返回True，否则返回False\n",
    "str1 = '我们今天不去上学，我们去踢足球'\n",
    "print(str1.startswith('我们'))  # 返回 True\n",
    "print(str1.endswith('我们'))    # 返回 False"
   ]
  },
  {
   "cell_type": "code",
   "execution_count": 23,
   "metadata": {},
   "outputs": [
    {
     "name": "stdout",
     "output_type": "stream",
     "text": [
      "请输入手机号码:4444r\n",
      "您输入的手机号码不正确，必须全部是数字\n"
     ]
    }
   ],
   "source": [
    "#isdigit方法检查字符串是否全部由数字构成，如果是，返回True，否则返回False\n",
    "str1 = input('请输入手机号码:')\n",
    "if not str1.isdigit(): # 不是全部由数字字符构成\n",
    "    print('您输入的手机号码不正确，必须全部是数字')"
   ]
  },
  {
   "cell_type": "code",
   "execution_count": 24,
   "metadata": {},
   "outputs": [
    {
     "name": "stdout",
     "output_type": "stream",
     "text": [
      "序倒的串符字\n"
     ]
    }
   ],
   "source": [
    "#要得到一个字符串的倒序字符串，只需要使用切片操作 [::-1]\n",
    "#::表示切片字符串的从头到尾，也就是全部内容，而步长为-1表示，颠倒过来取元素\n",
    "str1 = '字符串的倒序'\n",
    "reverse = str1[::-1]\n",
    "print(reverse)"
   ]
  },
  {
   "cell_type": "code",
   "execution_count": 25,
   "metadata": {},
   "outputs": [
    {
     "name": "stdout",
     "output_type": "stream",
     "text": [
      "[1, 2, 3.14, 'hello', '你好']\n",
      "[1, 2, 3.14, 'hello', '你好', [7, 8]]\n"
     ]
    }
   ],
   "source": [
    "#列表的方法 \n",
    "#前面说过列表是一种内容可改变的对象。\n",
    "#append方法就会改变列表的内容，在后面添加一个元素。\n",
    "a = [1, 2, 3.14, 'hello']  \n",
    "\n",
    "# append 之后，a就变成了 [1, 2, 3.14, 'hello', '你好']\n",
    "a.append('你好')\n",
    "print(a)\n",
    "\n",
    "\n",
    "# 继续append ，a就变成了 [1, 2, 3.14, 'hello', '你好', [7,8]]\n",
    "a.append([7,8])\n",
    "print(a)"
   ]
  },
  {
   "cell_type": "code",
   "execution_count": 29,
   "metadata": {},
   "outputs": [
    {
     "name": "stdout",
     "output_type": "stream",
     "text": [
      "None\n",
      "None\n"
     ]
    }
   ],
   "source": [
    "#注意，append方法的返回值是None，而不是新的列表对象。\n",
    "a = [1,2]  \n",
    "b = a.append(3)\n",
    "print(b)\n",
    "a = a.append('3')\n",
    "print(a)"
   ]
  },
  {
   "cell_type": "code",
   "execution_count": 30,
   "metadata": {},
   "outputs": [
    {
     "name": "stdout",
     "output_type": "stream",
     "text": [
      "['你好', 1, 2, 3.14, 'byhy.net']\n",
      "['你好', 1, '黑羽', 2, 3.14, 'byhy.net']\n"
     ]
    }
   ],
   "source": [
    "#如果我们不是要在后面添加一个元素，而是在指定位置插入一个元素，就可以使用insert方法\n",
    "a = [1, 2, 3.14, 'byhy.net']\n",
    "\n",
    "# 插入到索引0的位置，也是插到第1个元素的位置上\n",
    "# a列表内容就变成了 ['你好', 1, 2, 3.14, 'byhy.net']\n",
    "a.insert(0, '你好')\n",
    "print(a)\n",
    "\n",
    "\n",
    "# 插入到索引2的位置，也是插到第3个元素的位置上\n",
    "# a列表内容就变成了 ['你好', 1, '黑羽',  2, 3.14, 'byhy.net']\n",
    "a.insert(2, '黑羽')\n",
    "print(a)"
   ]
  },
  {
   "cell_type": "code",
   "execution_count": 33,
   "metadata": {},
   "outputs": [
    {
     "name": "stdout",
     "output_type": "stream",
     "text": [
      "[1, 2, 3.14]\n",
      "byhy.net\n"
     ]
    }
   ],
   "source": [
    "#如果我们要从列表取出并删除一个元素，就可以使用pop方法。\n",
    "#该方法的参数就是要取出的元素的索引\n",
    "#注意，取出后，该元素就从列表中删除了。所以pop也经常用来删除某个元素\n",
    "a = [1, 2, 3.14, 'byhy.net']  \n",
    "\n",
    "# 取出索引为3 的元素，也就是第4个元素\n",
    "poped = a.pop(3)\n",
    "\n",
    "# 取出后，a列表对象内容就变成了[ 1, 2, 3.14]\n",
    "print(a)\n",
    "\n",
    "#pop 方法的返回值是提取出来的元素\n",
    "# 而取出的元素赋值给变量poped，poped的内容就是 'byhy.net'\n",
    "print(poped)"
   ]
  },
  {
   "cell_type": "code",
   "execution_count": 34,
   "metadata": {},
   "outputs": [
    {
     "name": "stdout",
     "output_type": "stream",
     "text": [
      "['b', 'c', 'a']\n"
     ]
    }
   ],
   "source": [
    "#remove方法也是删除列表元素，而remove方法的参数就是要删除元素的值。\n",
    "#remove从第1个元素开始，寻找和参数对象相等的元素，如果找到了，就删除。\n",
    "#找到后，不会继续往后寻找其它相等的元素。\n",
    "#也就是说remove最多只会删除1个元素。\n",
    "var1 = ['a','b','c','a']\n",
    "var1.remove('a')\n",
    "print(var1)"
   ]
  },
  {
   "cell_type": "code",
   "execution_count": 36,
   "metadata": {},
   "outputs": [
    {
     "name": "stdout",
     "output_type": "stream",
     "text": [
      "['Kanye West', 6, 5, 4, 3, 2, 1]\n"
     ]
    }
   ],
   "source": [
    "#reverse方法将列表元素倒过来\n",
    "var1 = [1,2,3,4,5,6,'Kanye West']\n",
    "var1.reverse()\n",
    "print(var1)\n",
    "#同样的，reverse方法的返回值也是None"
   ]
  },
  {
   "cell_type": "code",
   "execution_count": 37,
   "metadata": {},
   "outputs": [
    {
     "name": "stdout",
     "output_type": "stream",
     "text": [
      "6\n"
     ]
    }
   ],
   "source": [
    "#index 方法返回参数对象在列表中的位置，也就是索引\n",
    "var1 = [1,2,3,4,5,6,'Kanye West']\n",
    "idx = var1.index('Kanye West')\n",
    "print(idx)"
   ]
  },
  {
   "cell_type": "code",
   "execution_count": 41,
   "metadata": {},
   "outputs": [
    {
     "name": "stdout",
     "output_type": "stream",
     "text": [
      "after sort: ['Alex', 'Alex', 'Jerry', 'Michale', 'Tom']\n",
      "after sort: [2, 3, 7, 8, 9]\n"
     ]
    }
   ],
   "source": [
    "#可以使用sort方法对列表进行排序\n",
    "#调用sort方法的列表中的元素通常都是是数字或者字符串。\n",
    "students = ['Alex','Tom','Jerry','Michale','Alex']\n",
    "students.sort()\n",
    "print(f'after sort: {students}')\n",
    "\n",
    "numbers = [7,3,8,2,9]\n",
    "numbers.sort()\n",
    "print(f'after sort: {numbers}')\n",
    "#注意：调用过sort方法后，列表中的内容就改变了。sort方法的返回值是None"
   ]
  },
  {
   "cell_type": "code",
   "execution_count": 42,
   "metadata": {},
   "outputs": [
    {
     "name": "stdout",
     "output_type": "stream",
     "text": [
      "请输入薪资：300000\n",
      "税后薪资是：225000.0\n"
     ]
    }
   ],
   "source": [
    "#格式化字符串\n",
    "salary = input('请输入薪资：')\n",
    "\n",
    "# 计算出税后薪资\n",
    "aftertax = int(salary)*75/100  \n",
    "\n",
    "# 再转化为字符串，方便下面的字符串拼接\n",
    "aftertaxStr = str(aftertax)  \n",
    "\n",
    "print('税后薪资是：' + aftertaxStr)"
   ]
  },
  {
   "cell_type": "code",
   "execution_count": 43,
   "metadata": {},
   "outputs": [
    {
     "name": "stdout",
     "output_type": "stream",
     "text": [
      "请输入薪资：10000\n",
      "税前薪资是：10000元， 缴税：2500.0元， 税后薪资是：7500.0元\n"
     ]
    }
   ],
   "source": [
    "salary = input('请输入薪资：')\n",
    "\n",
    "# 计算出缴税额，存入变量tax\n",
    "tax = int(salary) *25/100  \n",
    "# 转化为字符串，方便下面的字符串拼接\n",
    "taxStr = str(tax)  \n",
    "\n",
    "# 计算出税后工资，存入变量aftertax\n",
    "aftertax = int(salary) *75/100  \n",
    "# 转化为字符串，方便下面的字符串拼接\n",
    "aftertaxStr = str(aftertax)  \n",
    "\n",
    "print('税前薪资是：' + salary + '元， 缴税：' + taxStr + '元， 税后薪资是：' + aftertaxStr + '元')"
   ]
  },
  {
   "cell_type": "code",
   "execution_count": 44,
   "metadata": {},
   "outputs": [
    {
     "name": "stdout",
     "output_type": "stream",
     "text": [
      "请输入薪资：200000\n",
      "税前薪资：200000元，缴税：50000.0元，税后薪资：150000.0元\n"
     ]
    }
   ],
   "source": [
    "#printf风格\n",
    "#这种格式化语法和传统的C语言printf函数一样\n",
    "salary = input('请输入薪资：')\n",
    "\n",
    "# 计算出缴税额，存入变量tax\n",
    "tax = int(salary) *25/100\n",
    "\n",
    "# 计算出税后工资，存入变量aftertax\n",
    "aftertax = int(salary) *75/100 \n",
    "\n",
    "print('税前薪资：%s元，缴税：%s元，税后薪资：%s元' %(salary,tax,aftertax))\n",
    "#其中 %s 就是模板中的占位符，表示这个位置先占着，待会儿要有数据填入到这里\n",
    "#然后再提供一个元组，里面依次存放需要填入到 %s 位置的数据。\n",
    "#%s 是一种格式化符号，Python解释器看到 %s ，就会调用内置函数str()，\n",
    "#并将对应的格式化对象作为参数传入，返回的结果字符串填入对应占位符\n",
    "#str()内置函数的参数可以是任何类型的对象，比如：字符串、整数、浮点数、列表、元组等等，都可以。\n",
    "#所以 %s 为占位符，对应的格式化对象，不仅仅是字符串，还可以是整数、浮点数、列表、元组等等。\n",
    "#像这种只有一个格式化对象的情况下，可以直接就用格式化对象，不需要放到元组里面，像这样\n",
    "#'税前薪资：%s 元' % salary"
   ]
  },
  {
   "cell_type": "code",
   "execution_count": 46,
   "metadata": {},
   "outputs": [
    {
     "name": "stdout",
     "output_type": "stream",
     "text": [
      "税前薪资：    100000 元\n",
      "税前薪资：     10000 元\n",
      "税前薪资：      1000 元\n"
     ]
    }
   ],
   "source": [
    "#指定宽度和对齐\n",
    "print('税前薪资：%10s 元' % 100000)\n",
    "print('税前薪资：%10s 元' % 10000)\n",
    "print('税前薪资：%10s 元' % 1000)"
   ]
  },
  {
   "cell_type": "code",
   "execution_count": 47,
   "metadata": {},
   "outputs": [
    {
     "name": "stdout",
     "output_type": "stream",
     "text": [
      "税前薪资：100000     元\n",
      "税前薪资：10000      元\n",
      "税前薪资：1000       元\n"
     ]
    }
   ],
   "source": [
    "#如果我们希望是左边对齐，而不是右边对齐，就可以加一个`-`，像这样\n",
    "print('税前薪资：%-10s 元' % 100000)\n",
    "print('税前薪资：%-10s 元' % 10000)\n",
    "print('税前薪资：%-10s 元' % 1000)"
   ]
  },
  {
   "cell_type": "code",
   "execution_count": 48,
   "metadata": {},
   "outputs": [
    {
     "name": "stdout",
     "output_type": "stream",
     "text": [
      "税前薪资：0000100000 元\n",
      "税前薪资：0000010000 元\n",
      "税前薪资：0000001000 元\n"
     ]
    }
   ],
   "source": [
    "#%d和%f， %d用在格式化对象是整数的情况，%f用在格式化对象是浮点数的情况\n",
    "#打印数字的时候，我们指定宽度，而且希望不足宽度补零，而不是补空格\n",
    "print('税前薪资：%010d 元' % 100000)\n",
    "print('税前薪资：%010d 元' % 10000)\n",
    "print('税前薪资：%010d 元' % 1000)"
   ]
  },
  {
   "cell_type": "code",
   "execution_count": 49,
   "metadata": {
    "scrolled": true
   },
   "outputs": [
    {
     "name": "stdout",
     "output_type": "stream",
     "text": [
      "税前薪资：1000.452200 元\n",
      "税前薪资：1008.663200 元\n",
      "税前薪资：1009.422200 元\n"
     ]
    }
   ],
   "source": [
    "#对于小数的格式化，通常使用%f\n",
    "print('税前薪资：%010f 元' % 1000.4522)\n",
    "print('税前薪资：%010f 元' % 1008.6632)\n",
    "print('税前薪资：%010f 元' % 1009.4222)"
   ]
  },
  {
   "cell_type": "code",
   "execution_count": 50,
   "metadata": {},
   "outputs": [
    {
     "name": "stdout",
     "output_type": "stream",
     "text": [
      "税前薪资：0001000.45 元\n",
      "税前薪资：0001008.66 元\n",
      "税前薪资：0001009.42 元\n"
     ]
    }
   ],
   "source": [
    "#如果我们想保留小数点后面2位数字，就可以加上.2\n",
    "print('税前薪资：%010.2f 元' % 1000.4522)\n",
    "print('税前薪资：%010.2f 元' % 1008.6632)\n",
    "print('税前薪资：%010.2f 元' % 1009.4222)"
   ]
  },
  {
   "cell_type": "code",
   "execution_count": 51,
   "metadata": {},
   "outputs": [
    {
     "name": "stdout",
     "output_type": "stream",
     "text": [
      "请输入薪资：49999\n",
      "税前薪资是：49999元， 缴税：12499.75元， 税后薪资是：37499.25元\n"
     ]
    }
   ],
   "source": [
    "#f-string格式化就是在字符串模板前面加上f，然后占位符使用{},里面直接放入对应的数据对象。\n",
    "salary = input('请输入薪资：')\n",
    "\n",
    "# 计算出缴税额，存入变量tax\n",
    "tax = int(salary) *25/100  \n",
    "\n",
    "# 计算出税后工资，存入变量aftertax\n",
    "aftertax = int(salary) *75/100 \n",
    "\n",
    "print(f'税前薪资是：{salary}元， 缴税：{tax}元， 税后薪资是：{aftertax}元')"
   ]
  },
  {
   "cell_type": "code",
   "execution_count": 52,
   "metadata": {},
   "outputs": [
    {
     "name": "stdout",
     "output_type": "stream",
     "text": [
      "税前薪资是：    8000元， 缴税：  2000.0元， 税后薪资是：  6000.0元\n",
      "税前薪资是：   15000元， 缴税：  3750.0元， 税后薪资是： 11250.0元\n",
      "税前薪资是：  100000元， 缴税： 25000.0元， 税后薪资是： 75000.0元\n"
     ]
    }
   ],
   "source": [
    "#指定宽度\n",
    "#方法是，在括号里面的变量后面加上:宽度值\n",
    "# 员工 1\n",
    "salary = 8000\n",
    "tax = int(salary) *25/100  \n",
    "aftertax = int(salary) *75/100 \n",
    "print(f'税前薪资是：{salary:8}元， 缴税：{tax:8}元， 税后薪资是：{aftertax:8}元')\n",
    "\n",
    "\n",
    "# 员工 2\n",
    "salary = 15000\n",
    "tax = int(salary) *25/100  \n",
    "aftertax = int(salary) *75/100 \n",
    "print(f'税前薪资是：{salary:8}元， 缴税：{tax:8}元， 税后薪资是：{aftertax:8}元')\n",
    "\n",
    "\n",
    "# 员工 3\n",
    "salary = 100000\n",
    "tax = int(salary) *25/100  \n",
    "aftertax = int(salary) *75/100 \n",
    "print(f'税前薪资是：{salary:8}元， 缴税：{tax:8}元， 税后薪资是：{aftertax:8}元')\n",
    "#如果我们想指定左右对齐，可以在括号里使用 < > 符号\n",
    "#箭头朝左就是左对齐，箭头朝右就是右对齐"
   ]
  },
  {
   "cell_type": "code",
   "execution_count": 54,
   "metadata": {},
   "outputs": [
    {
     "name": "stdout",
     "output_type": "stream",
     "text": [
      "税前薪资是：8000    元， 缴税：2000.0  元， 税后薪资是：6000.0  元\n",
      "税前薪资是：15000   元， 缴税：3750.0  元， 税后薪资是：11250.0 元\n",
      "税前薪资是：100000  元， 缴税：25000.0 元， 税后薪资是：75000.0 元\n"
     ]
    }
   ],
   "source": [
    "def calcTax(salary):\n",
    "    tax = int(salary) *25/100  \n",
    "    aftertax = int(salary) *75/100 \n",
    "    print(f'税前薪资是：{salary:<8}元， 缴税：{tax:<8}元， 税后薪资是：{aftertax:<8}元')\n",
    "\n",
    "# 员工 1\n",
    "calcTax(8000)\n",
    "# 员工 2\n",
    "calcTax(15000)\n",
    "# 员工 3\n",
    "calcTax(100000)"
   ]
  },
  {
   "cell_type": "code",
   "execution_count": 55,
   "metadata": {},
   "outputs": [
    {
     "name": "stdout",
     "output_type": "stream",
     "text": [
      "请输入命令：ok\n",
      "输入的命令是ok\n",
      "请输入命令：exit\n"
     ]
    }
   ],
   "source": [
    "#while循环\n",
    "command = input(\"请输入命令：\")\n",
    "while command != 'exit':\n",
    "    print(f'输入的命令是{command}')\n",
    "    command = input(\"请输入命令：\")"
   ]
  },
  {
   "cell_type": "code",
   "execution_count": 56,
   "metadata": {},
   "outputs": [
    {
     "name": "stdout",
     "output_type": "stream",
     "text": [
      "1\n",
      "2\n",
      "3\n",
      "4\n",
      "5\n",
      "6\n",
      "7\n",
      "8\n",
      "9\n",
      "10\n",
      "11\n",
      "12\n",
      "13\n",
      "14\n",
      "15\n",
      "16\n",
      "17\n",
      "18\n",
      "19\n",
      "20\n",
      "21\n",
      "22\n",
      "23\n",
      "24\n",
      "25\n",
      "26\n",
      "27\n",
      "28\n",
      "29\n",
      "30\n",
      "31\n",
      "32\n",
      "33\n",
      "34\n",
      "35\n",
      "36\n",
      "37\n",
      "38\n",
      "39\n",
      "40\n",
      "41\n",
      "42\n",
      "43\n",
      "44\n",
      "45\n",
      "46\n",
      "47\n",
      "48\n",
      "49\n",
      "50\n",
      "51\n",
      "52\n",
      "53\n",
      "54\n",
      "55\n",
      "56\n",
      "57\n",
      "58\n",
      "59\n",
      "60\n",
      "61\n",
      "62\n",
      "63\n",
      "64\n",
      "65\n",
      "66\n",
      "67\n",
      "68\n",
      "69\n",
      "70\n",
      "71\n",
      "72\n",
      "73\n",
      "74\n",
      "75\n",
      "76\n",
      "77\n",
      "78\n",
      "79\n",
      "80\n",
      "81\n",
      "82\n",
      "83\n",
      "84\n",
      "85\n",
      "86\n",
      "87\n",
      "88\n",
      "89\n",
      "90\n",
      "91\n",
      "92\n",
      "93\n",
      "94\n",
      "95\n",
      "96\n",
      "97\n",
      "98\n",
      "99\n",
      "100\n"
     ]
    }
   ],
   "source": [
    "i = 1\n",
    "while i <= 100:\n",
    "    print(i)\n",
    "    i += 1"
   ]
  },
  {
   "cell_type": "code",
   "execution_count": 57,
   "metadata": {},
   "outputs": [
    {
     "name": "stdout",
     "output_type": "stream",
     "text": [
      "小王:17\n",
      "小赵:16\n",
      "小李:17\n",
      "小孙:16\n",
      "小徐:18\n"
     ]
    }
   ],
   "source": [
    "#for循环\n",
    "studentAges = ['小王:17', '小赵:16', '小李:17', '小孙:16', '小徐:18']\n",
    "\n",
    "for student in studentAges:\n",
    "    print(student)"
   ]
  },
  {
   "cell_type": "code",
   "execution_count": 58,
   "metadata": {},
   "outputs": [
    {
     "name": "stdout",
     "output_type": "stream",
     "text": [
      "小王:17\n",
      "小赵:16\n",
      "小李:17\n",
      "小孙:16\n",
      "小徐:18\n"
     ]
    }
   ],
   "source": [
    "#自己用while改写的嘿嘿\n",
    "studentAges = ['小王:17', '小赵:16', '小李:17', '小孙:16', '小徐:18']\n",
    "\n",
    "i = 0\n",
    "while i <= len(studentAges)-1:\n",
    "    print(studentAges[i])\n",
    "    i += 1"
   ]
  },
  {
   "cell_type": "code",
   "execution_count": 61,
   "metadata": {},
   "outputs": [
    {
     "name": "stdout",
     "output_type": "stream",
     "text": [
      "0\n",
      "python，我爱你\n",
      "1\n",
      "python，我爱你\n",
      "2\n",
      "python，我爱你\n",
      "3\n",
      "python，我爱你\n",
      "4\n",
      "python，我爱你\n",
      "5\n",
      "python，我爱你\n",
      "6\n",
      "python，我爱你\n",
      "7\n",
      "python，我爱你\n",
      "8\n",
      "python，我爱你\n",
      "9\n",
      "python，我爱你\n",
      "10\n",
      "python，我爱你\n",
      "11\n",
      "python，我爱你\n",
      "12\n",
      "python，我爱你\n",
      "13\n",
      "python，我爱你\n",
      "14\n",
      "python，我爱你\n",
      "15\n",
      "python，我爱你\n",
      "16\n",
      "python，我爱你\n",
      "17\n",
      "python，我爱你\n",
      "18\n",
      "python，我爱你\n",
      "19\n",
      "python，我爱你\n",
      "20\n",
      "python，我爱你\n",
      "21\n",
      "python，我爱你\n",
      "22\n",
      "python，我爱你\n",
      "23\n",
      "python，我爱你\n",
      "24\n",
      "python，我爱你\n",
      "25\n",
      "python，我爱你\n",
      "26\n",
      "python，我爱你\n",
      "27\n",
      "python，我爱你\n",
      "28\n",
      "python，我爱你\n",
      "29\n",
      "python，我爱你\n",
      "30\n",
      "python，我爱你\n",
      "31\n",
      "python，我爱你\n",
      "32\n",
      "python，我爱你\n",
      "33\n",
      "python，我爱你\n",
      "34\n",
      "python，我爱你\n",
      "35\n",
      "python，我爱你\n",
      "36\n",
      "python，我爱你\n",
      "37\n",
      "python，我爱你\n",
      "38\n",
      "python，我爱你\n",
      "39\n",
      "python，我爱你\n",
      "40\n",
      "python，我爱你\n",
      "41\n",
      "python，我爱你\n",
      "42\n",
      "python，我爱你\n",
      "43\n",
      "python，我爱你\n",
      "44\n",
      "python，我爱你\n",
      "45\n",
      "python，我爱你\n",
      "46\n",
      "python，我爱你\n",
      "47\n",
      "python，我爱你\n",
      "48\n",
      "python，我爱你\n",
      "49\n",
      "python，我爱你\n",
      "50\n",
      "python，我爱你\n",
      "51\n",
      "python，我爱你\n",
      "52\n",
      "python，我爱你\n",
      "53\n",
      "python，我爱你\n",
      "54\n",
      "python，我爱你\n",
      "55\n",
      "python，我爱你\n",
      "56\n",
      "python，我爱你\n",
      "57\n",
      "python，我爱你\n",
      "58\n",
      "python，我爱你\n",
      "59\n",
      "python，我爱你\n",
      "60\n",
      "python，我爱你\n",
      "61\n",
      "python，我爱你\n",
      "62\n",
      "python，我爱你\n",
      "63\n",
      "python，我爱你\n",
      "64\n",
      "python，我爱你\n",
      "65\n",
      "python，我爱你\n",
      "66\n",
      "python，我爱你\n",
      "67\n",
      "python，我爱你\n",
      "68\n",
      "python，我爱你\n",
      "69\n",
      "python，我爱你\n",
      "70\n",
      "python，我爱你\n",
      "71\n",
      "python，我爱你\n",
      "72\n",
      "python，我爱你\n",
      "73\n",
      "python，我爱你\n",
      "74\n",
      "python，我爱你\n",
      "75\n",
      "python，我爱你\n",
      "76\n",
      "python，我爱你\n",
      "77\n",
      "python，我爱你\n",
      "78\n",
      "python，我爱你\n",
      "79\n",
      "python，我爱你\n",
      "80\n",
      "python，我爱你\n",
      "81\n",
      "python，我爱你\n",
      "82\n",
      "python，我爱你\n",
      "83\n",
      "python，我爱你\n",
      "84\n",
      "python，我爱你\n",
      "85\n",
      "python，我爱你\n",
      "86\n",
      "python，我爱你\n",
      "87\n",
      "python，我爱你\n",
      "88\n",
      "python，我爱你\n",
      "89\n",
      "python，我爱你\n",
      "90\n",
      "python，我爱你\n",
      "91\n",
      "python，我爱你\n",
      "92\n",
      "python，我爱你\n",
      "93\n",
      "python，我爱你\n",
      "94\n",
      "python，我爱你\n",
      "95\n",
      "python，我爱你\n",
      "96\n",
      "python，我爱你\n",
      "97\n",
      "python，我爱你\n",
      "98\n",
      "python，我爱你\n",
      "99\n",
      "python，我爱你\n"
     ]
    }
   ],
   "source": [
    "#循环n次\n",
    "# range里面的参数100 指定循环100次\n",
    "# 其中 n 依次为 0,1,2,3,4... 直到 99\n",
    "for n in range(100):  \n",
    "    print(n)      \n",
    "    print('python，我爱你')"
   ]
  },
  {
   "cell_type": "code",
   "execution_count": 62,
   "metadata": {},
   "outputs": [
    {
     "name": "stdout",
     "output_type": "stream",
     "text": [
      "50\n",
      "51\n",
      "52\n",
      "53\n",
      "54\n",
      "55\n",
      "56\n",
      "57\n",
      "58\n",
      "59\n",
      "60\n",
      "61\n",
      "62\n",
      "63\n",
      "64\n",
      "65\n",
      "66\n",
      "67\n",
      "68\n",
      "69\n",
      "70\n",
      "71\n",
      "72\n",
      "73\n",
      "74\n",
      "75\n",
      "76\n",
      "77\n",
      "78\n",
      "79\n",
      "80\n",
      "81\n",
      "82\n",
      "83\n",
      "84\n",
      "85\n",
      "86\n",
      "87\n",
      "88\n",
      "89\n",
      "90\n",
      "91\n",
      "92\n",
      "93\n",
      "94\n",
      "95\n",
      "96\n",
      "97\n",
      "98\n",
      "99\n",
      "100\n"
     ]
    }
   ],
   "source": [
    "#range里面可以放入两个参数。两个参数表示起止范围。\n",
    "#比如range(50,101)表示从50开始，到100结束。\n",
    "for n in range(50,101):  \n",
    "    print(n) "
   ]
  },
  {
   "cell_type": "code",
   "execution_count": 63,
   "metadata": {},
   "outputs": [
    {
     "name": "stdout",
     "output_type": "stream",
     "text": [
      "50\n",
      "55\n",
      "60\n",
      "65\n",
      "70\n",
      "75\n",
      "80\n",
      "85\n",
      "90\n",
      "95\n",
      "100\n"
     ]
    }
   ],
   "source": [
    "#如果有3个参数，前面2个参数的含义和上面一样，第3个参数表示步长 。\n",
    "#这里参数值为5，就是每次增加5，而不是增加1。\n",
    "for n in range(50,101,5):  \n",
    "    print(n) "
   ]
  },
  {
   "cell_type": "code",
   "execution_count": 64,
   "metadata": {},
   "outputs": [
    {
     "name": "stdout",
     "output_type": "stream",
     "text": [
      "4\n"
     ]
    }
   ],
   "source": [
    "#有的时候，在使用for循环从列表或者元组中遍历元素的时候，\n",
    "#除了要获取每个元素，还需要得到每个元素在列表元组里面的索引。\n",
    "#这时候可以使用 enumerate 函数\n",
    "studentAges = ['小王:17', '小赵:16', '小李:17', '小孙:16', '小徐:18']\n",
    "\n",
    "#enumerate(studentAges)每次迭代返回一个元组\n",
    "#里面有两个元素，依次是元素的索引和元素本身 \n",
    "for idx, student in enumerate(studentAges):\n",
    "    if int(student.split(':')[-1]) > 17:\n",
    "        print(idx)"
   ]
  },
  {
   "cell_type": "code",
   "execution_count": 65,
   "metadata": {},
   "outputs": [
    {
     "name": "stdout",
     "output_type": "stream",
     "text": [
      "请输入命令:77\n",
      "输入的命令是77\n",
      "请输入命令:exit\n",
      "程序结束\n"
     ]
    }
   ],
   "source": [
    "#break终止循环\n",
    "while True:\n",
    "    command = input(\"请输入命令:\")\n",
    "    if command == 'exit':\n",
    "        break\n",
    "    print(f'输入的命令是{command}')\n",
    "\n",
    "print('程序结束')"
   ]
  },
  {
   "cell_type": "code",
   "execution_count": 66,
   "metadata": {},
   "outputs": [
    {
     "name": "stdout",
     "output_type": "stream",
     "text": [
      "请输入命令:66\n",
      "输入的命令是66\n",
      "请输入命令:999\n",
      "输入的命令是999\n",
      "请输入命令:exit\n",
      "程序结束\n"
     ]
    }
   ],
   "source": [
    "for i in range(100):\n",
    "    command = input(\"请输入命令:\")\n",
    "    if command == 'exit':\n",
    "        break\n",
    "    print(f'输入的命令是{command}')\n",
    "\n",
    "print('程序结束')"
   ]
  },
  {
   "cell_type": "code",
   "execution_count": 67,
   "metadata": {},
   "outputs": [
    {
     "name": "stdout",
     "output_type": "stream",
     "text": [
      "请输入命令:韩红和\n",
      "输入的命令是韩红和\n",
      "请输入命令:嘿嘿\n",
      "输入的命令是嘿嘿\n",
      "请输入命令:exit\n",
      "末尾语句\n"
     ]
    }
   ],
   "source": [
    "#break只是跳出循环，如果循环后面还有代码，会进行执行\n",
    "def inputCommand():\n",
    "    while True:\n",
    "        command = input(\"请输入命令:\")\n",
    "        if command == 'exit':\n",
    "            break\n",
    "        print(f'输入的命令是{command}')\n",
    "\n",
    "\n",
    "    print('末尾语句')\n",
    "\n",
    "inputCommand()"
   ]
  },
  {
   "cell_type": "code",
   "execution_count": 68,
   "metadata": {},
   "outputs": [
    {
     "name": "stdout",
     "output_type": "stream",
     "text": [
      "请输入命令:exit\n"
     ]
    }
   ],
   "source": [
    "#return则会从函数里面立即返回，函数体内的后续任何代码都不执行了\n",
    "def inputCommand():\n",
    "    while True:\n",
    "        command = input(\"请输入命令:\")\n",
    "        if command == 'exit':\n",
    "            return\n",
    "        print(f'输入的命令是{command}')\n",
    "\n",
    "\n",
    "    print('末尾语句')\n",
    "\n",
    "inputCommand()"
   ]
  },
  {
   "cell_type": "code",
   "execution_count": 69,
   "metadata": {},
   "outputs": [
    {
     "name": "stdout",
     "output_type": "stream",
     "text": [
      "请输入命令:8\n",
      "输入的命令是8\n",
      "请输入命令:cont\n",
      "请输入命令:5\n",
      "输入的命令是5\n",
      "请输入命令:exit\n",
      "程序结束\n"
     ]
    }
   ],
   "source": [
    "#有时，我们循环体内的代码在发现某种条件满足的时候，不是要终止整个循环，\n",
    "#而是只结束当前这一轮循环，后面还要继续循环的执行。\n",
    "#我们可以使用关键字continue\n",
    "while True:\n",
    "    command = input(\"请输入命令:\")\n",
    "    if command == 'exit':\n",
    "        break\n",
    "    if command == 'cont':\n",
    "        continue\n",
    "    print(f'输入的命令是{command}')\n",
    "\n",
    "print('程序结束')"
   ]
  },
  {
   "cell_type": "code",
   "execution_count": 70,
   "metadata": {},
   "outputs": [
    {
     "name": "stdout",
     "output_type": "stream",
     "text": [
      "[1, 4, 9, 16, 25, 36]\n"
     ]
    }
   ],
   "source": [
    "#列表推导式\n",
    "list1 = [1,2,3,4,5,6]\n",
    "list2 = [num**2 for num in list1]\n",
    "print(list2)"
   ]
  },
  {
   "cell_type": "code",
   "execution_count": 71,
   "metadata": {},
   "outputs": [
    {
     "name": "stdout",
     "output_type": "stream",
     "text": [
      "关羽 大战 典韦\n",
      "关羽 大战 许褚\n",
      "关羽 大战 张辽\n",
      "关羽 大战 夏侯惇\n",
      "关羽 大战 夏侯渊\n",
      "张飞 大战 典韦\n",
      "张飞 大战 许褚\n",
      "张飞 大战 张辽\n",
      "张飞 大战 夏侯惇\n",
      "张飞 大战 夏侯渊\n",
      "赵云 大战 典韦\n",
      "赵云 大战 许褚\n",
      "赵云 大战 张辽\n",
      "赵云 大战 夏侯惇\n",
      "赵云 大战 夏侯渊\n",
      "马超 大战 典韦\n",
      "马超 大战 许褚\n",
      "马超 大战 张辽\n",
      "马超 大战 夏侯惇\n",
      "马超 大战 夏侯渊\n",
      "黄忠 大战 典韦\n",
      "黄忠 大战 许褚\n",
      "黄忠 大战 张辽\n",
      "黄忠 大战 夏侯惇\n",
      "黄忠 大战 夏侯渊\n"
     ]
    }
   ],
   "source": [
    "#循环嵌套\n",
    "list1 = ['关羽','张飞','赵云','马超','黄忠']\n",
    "list2 = ['典韦','许褚','张辽','夏侯惇','夏侯渊']\n",
    "\n",
    "for member1 in list1:\n",
    "    for member2 in list2:\n",
    "        print(f'{member1} 大战 {member2}')"
   ]
  },
  {
   "cell_type": "code",
   "execution_count": 72,
   "metadata": {},
   "outputs": [
    {
     "name": "stdout",
     "output_type": "stream",
     "text": [
      "b'\\xe4\\xbd\\xa0\\xe5\\xa5\\xbd'\n",
      "b'\\xc4\\xe3\\xba\\xc3'\n"
     ]
    }
   ],
   "source": [
    "#Python3的字符编码和解码\n",
    "#字符串编码\n",
    "print('你好'.encode('utf8')) # 输出 b'\\xe4\\xbd\\xa0\\xe5\\xa5\\xbd'\n",
    "print('你好'.encode('gbk'))  # 输出 b'\\xc4\\xe3\\xba\\xc3'\n",
    "#输出内容中b开头，表示这是一个字节串bytes对象\n",
    "#\\x 说明是用16进制表示一个字节"
   ]
  },
  {
   "cell_type": "code",
   "execution_count": 73,
   "metadata": {},
   "outputs": [
    {
     "name": "stdout",
     "output_type": "stream",
     "text": [
      "你好\n",
      "你好\n"
     ]
    }
   ],
   "source": [
    "#字节串解码\n",
    "print(b'\\xe4\\xbd\\xa0\\xe5\\xa5\\xbd'.decode('utf8'))\n",
    "print(b'\\xc4\\xe3\\xba\\xc3'.decode('gbk'))"
   ]
  },
  {
   "cell_type": "code",
   "execution_count": 75,
   "metadata": {},
   "outputs": [],
   "source": [
    "#文件操作\n",
    "#文本文件读写\n",
    "#要读写文件，首先要通过内置函数open打开文件，获得文件对象。\n",
    "#函数open的参数如下\n",
    "open(\n",
    "    file, \n",
    "    mode='r', \n",
    "    buffering=-1, \n",
    "    encoding=None, \n",
    "    errors=None, \n",
    "    newline=None, \n",
    "    closefd=True, \n",
    "    opener=None\n",
    "    )\n",
    "#其中下面这3个参数是我们常用的。\n",
    "#参数 file\n",
    "#file参数指定了要打开文件的路径。\n",
    "#可以是相对路径，比如’log.txt’，就是指当前工作目录下面的log.txt文件，\n",
    "#也可以是绝对路径，比如 ’d:\\project\\log\\log.txt’，\n",
    "\n",
    "#参数 mode\n",
    "#mode参数指定了文件打开的 模式 ，打开文件的模式 决定了可以怎样操作文件。\n",
    "#常用的打开模式有\n",
    "#r 只读文本模式打开，这是最常用的一种模式\n",
    "#w 只写文本模式打开\n",
    "#a 追加文本模式打开\n",
    "#如果我们要 读取文本文件内容到字符串对象中，就应该使用 r 模式。\n",
    "#我们可以发现mode参数的缺省值 就是 ‘r’ 。\n",
    "#就是说，调用open函数时，如果没有指定参数mode的值，那么该参数就使用缺省值‘r’，表示只读打开。\n",
    "#如果我们要创建一个新文件写入内容，或者清空某个文本文件重新写入内容，就应该使用‘w’模式。\n",
    "#如果我们要从某个文件末尾添加内容，就应该使用‘a’模式。\n",
    "\n",
    "#参数 encoding\n",
    "#encoding 参数指定了读写文本文件时，使用的字符编解码方式。\n",
    "#调用open函数时，如果传入了encoding参数值：\n",
    "#后面调用write写入字符串到文件中，open函数会使用指定encoding编码为字节串；\n",
    "#后面调用read从文件中读取内容，open函数会使用指定encoding解码为字符串对象\n",
    "#如果调用的时候没有传入encoding参数值，open函数会使用系统缺省字符编码方式。 比如在中文的Windows系统上，就是使用cp936（就是gbk编码）。"
   ]
  },
  {
   "cell_type": "code",
   "execution_count": 76,
   "metadata": {},
   "outputs": [],
   "source": [
    "#写文件示例\n",
    "# 指定编码方式为 utf8\n",
    "f = open('tmp.txt','w',encoding='utf8')\n",
    "\n",
    "# write方法会将字符串编码为utf8字节串写入文件\n",
    "f.write('Kanye West：祝大家好运气!')\n",
    "\n",
    "# 文件操作完毕后，使用close方法关闭该文件对象\n",
    "f.close()"
   ]
  },
  {
   "cell_type": "code",
   "execution_count": 77,
   "metadata": {},
   "outputs": [],
   "source": [
    "#用追加模式a打开文件\n",
    "f = open('tmp.txt','a',encoding='utf8')\n",
    "f.write('Kanye West再次祝大家 ：good luck')\n",
    "f.close()"
   ]
  },
  {
   "cell_type": "code",
   "execution_count": 78,
   "metadata": {},
   "outputs": [
    {
     "name": "stdout",
     "output_type": "stream",
     "text": [
      "Kanye West\n"
     ]
    }
   ],
   "source": [
    "#读文件示例\n",
    "f = open('tmp.txt','r',encoding='utf8')\n",
    "\n",
    "# read 方法会在读取文件中的原始字节串后， 根据上面指定的utf8解码为字符串对象返回\n",
    "content = f.read()\n",
    "\n",
    "# 文件操作完毕后， 使用close方法关闭该文件对象\n",
    "f.close()\n",
    "\n",
    "# 通过字符串的split方法获取其中用户名部分\n",
    "name = content.split('：')[0]\n",
    "\n",
    "print(name)"
   ]
  },
  {
   "cell_type": "code",
   "execution_count": 79,
   "metadata": {},
   "outputs": [
    {
     "name": "stdout",
     "output_type": "stream",
     "text": [
      "hel\n",
      "lo\n",
      "\n",
      "cHl0aG9uMy52aXAgYWxsIHJpZ2h0cyByZXNlcnZlZA==\n"
     ]
    }
   ],
   "source": [
    "# 因为是读取文本文件的模式，可以无须指定mode参数\n",
    "# 因为都是英文字符，基本上所以的编码方式都兼容ASCII，可以无须指定encoding参数\n",
    "f = open('tmp1.txt')\n",
    "\n",
    "tmp = f.read(3)  # read 方法读取3个字符\n",
    "print(tmp)       # 返回3个字符的字符串 'hel' \n",
    "\n",
    "\n",
    "tmp = f.read(3)  # 继续使用 read 方法读取3个字符\n",
    "print(tmp)       # 返回3个字符的字符串 'lo\\n'  换行符也是一个字符\n",
    "\n",
    "\n",
    "tmp = f.read()  # 不加参数，读取剩余的所有字符\n",
    "print(tmp)       # 返回剩余字符的字符串 'cHl0aG9uMy52aXAgYWxsIHJpZ2h0cyByZXNlcnZlZA==' \n",
    "\n",
    "\n",
    "# 文件操作完毕后， 使用close 方法关闭该文件对象\n",
    "f.close()  "
   ]
  },
  {
   "cell_type": "code",
   "execution_count": 81,
   "metadata": {},
   "outputs": [
    {
     "name": "stdout",
     "output_type": "stream",
     "text": [
      "Kanye West：祝大家好运气!Kanye West再次祝大家 ：good luck\n",
      "Kanye West：祝大家好运气!Kanye West再次祝大家 ：good luck\n"
     ]
    }
   ],
   "source": [
    "#读取文本文件内容的时候，通常还会使用readlines方法，该方法会返回一个列表。\n",
    "#列表中的每个元素依次对应文本文件中每行内容。\n",
    "f = open('tmp.txt',encoding='utf8')\n",
    "linelist = f.readlines() \n",
    "f.close()  \n",
    "for line in linelist:\n",
    "    print(line)\n",
    "    \n",
    "#但是这种方法,列表的每个元素对应的字符串最后有一个换行符。如果你不想要换行符，\n",
    "#可以使用字符串对象的splitlines方法\n",
    "f = open('tmp.txt',encoding='utf8')\n",
    "content = f.read()   # 读取全部文件内容\n",
    "f.close()\n",
    "\n",
    "# 将文件内容字符串按换行符切割到列表中，每个元素依次对应一行\n",
    "linelist = content.splitlines()\n",
    "for line in linelist:\n",
    "    print(line)"
   ]
  },
  {
   "cell_type": "code",
   "execution_count": 82,
   "metadata": {},
   "outputs": [
    {
     "name": "stdout",
     "output_type": "stream",
     "text": [
      "b'Kanye West\\xef\\xbc\\x9a\\xe7\\xa5\\x9d\\xe5\\xa4\\xa7\\xe5\\xae\\xb6\\xe5\\xa5\\xbd\\xe8\\xbf\\x90\\xe6\\xb0\\x94!Kanye West\\xe5\\x86\\x8d\\xe6\\xac\\xa1\\xe7\\xa5\\x9d\\xe5\\xa4\\xa7\\xe5\\xae\\xb6 \\xef\\xbc\\x9agood luck'\n",
      "70\n"
     ]
    }
   ],
   "source": [
    "# mode参数指定为rb 就是用二进制读的方式打开文件\n",
    "f = open('tmp.txt','rb')\n",
    "content = f.read()   \n",
    "f.close()  \n",
    "\n",
    "# 由于是二进制方式打开，所以得到的content是 字节串对象 bytes\n",
    "print(content) \n",
    "\n",
    "# 该对象的长度是字节串里面的字节个数，每3个字节对应一个汉字的utf8编码\n",
    "print(len(content))"
   ]
  },
  {
   "cell_type": "code",
   "execution_count": 83,
   "metadata": {},
   "outputs": [],
   "source": [
    "#以二进制方式写数据到文件中，传给write方法的参数不能是字符串，只能是bytes对象\n",
    "# mode参数指定为 wb 就是用二进制写的方式打开文件\n",
    "f = open('tmp.txt','wb')\n",
    "\n",
    "content = '侃爷祝大家好运连连'\n",
    "# 二进制打开的文件，写入的参数必须是bytes类型，\n",
    "# 字符串对象需要调用encode进行相应的编码为bytes类型\n",
    "f.write(content.encode('utf8'))\n",
    "\n",
    "f.close()"
   ]
  },
  {
   "cell_type": "code",
   "execution_count": 84,
   "metadata": {},
   "outputs": [],
   "source": [
    "#字节实现一个简单的文件拷贝功能\n",
    "#实现一个函数，有两个参数，第一个参数是源文件路径，第二个参数是拷贝生成的目标文件路径。\n",
    "def fileCopy(srcPath,destPath):\n",
    "    srcF = open(srcPath,'rb')\n",
    "    content = srcF.read()\n",
    "    srcF.close()\n",
    "\n",
    "    destF = open(destPath,'wb')\n",
    "    destF.write(content)\n",
    "    destF.close()\n",
    "\n",
    "fileCopy('tmp.txt','tmpcopy.txt')"
   ]
  },
  {
   "cell_type": "code",
   "execution_count": null,
   "metadata": {},
   "outputs": [],
   "source": []
  }
 ],
 "metadata": {
  "kernelspec": {
   "display_name": "Python 3",
   "language": "python",
   "name": "python3"
  },
  "language_info": {
   "codemirror_mode": {
    "name": "ipython",
    "version": 3
   },
   "file_extension": ".py",
   "mimetype": "text/x-python",
   "name": "python",
   "nbconvert_exporter": "python",
   "pygments_lexer": "ipython3",
   "version": "3.7.4"
  }
 },
 "nbformat": 4,
 "nbformat_minor": 2
}
