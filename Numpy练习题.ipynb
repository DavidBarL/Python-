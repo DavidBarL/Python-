{
 "cells": [
  {
   "cell_type": "code",
   "execution_count": 1,
   "metadata": {},
   "outputs": [],
   "source": [
    "#导入Numpy库并简写为np\n",
    "import numpy as np"
   ]
  },
  {
   "cell_type": "code",
   "execution_count": 3,
   "metadata": {},
   "outputs": [
    {
     "name": "stdout",
     "output_type": "stream",
     "text": [
      "1.16.5\n"
     ]
    }
   ],
   "source": [
    "#打印Numpy的版本和配置说明\n",
    "print(np.__version__)"
   ]
  },
  {
   "cell_type": "code",
   "execution_count": 4,
   "metadata": {},
   "outputs": [
    {
     "name": "stdout",
     "output_type": "stream",
     "text": [
      "mkl_info:\n",
      "    libraries = ['mkl_rt']\n",
      "    library_dirs = ['D:/Anaconda3\\\\Library\\\\lib']\n",
      "    define_macros = [('SCIPY_MKL_H', None), ('HAVE_CBLAS', None)]\n",
      "    include_dirs = ['C:\\\\Program Files (x86)\\\\IntelSWTools\\\\compilers_and_libraries_2019.0.117\\\\windows\\\\mkl', 'C:\\\\Program Files (x86)\\\\IntelSWTools\\\\compilers_and_libraries_2019.0.117\\\\windows\\\\mkl\\\\include', 'C:\\\\Program Files (x86)\\\\IntelSWTools\\\\compilers_and_libraries_2019.0.117\\\\windows\\\\mkl\\\\lib', 'D:/Anaconda3\\\\Library\\\\include']\n",
      "blas_mkl_info:\n",
      "    libraries = ['mkl_rt']\n",
      "    library_dirs = ['D:/Anaconda3\\\\Library\\\\lib']\n",
      "    define_macros = [('SCIPY_MKL_H', None), ('HAVE_CBLAS', None)]\n",
      "    include_dirs = ['C:\\\\Program Files (x86)\\\\IntelSWTools\\\\compilers_and_libraries_2019.0.117\\\\windows\\\\mkl', 'C:\\\\Program Files (x86)\\\\IntelSWTools\\\\compilers_and_libraries_2019.0.117\\\\windows\\\\mkl\\\\include', 'C:\\\\Program Files (x86)\\\\IntelSWTools\\\\compilers_and_libraries_2019.0.117\\\\windows\\\\mkl\\\\lib', 'D:/Anaconda3\\\\Library\\\\include']\n",
      "blas_opt_info:\n",
      "    libraries = ['mkl_rt']\n",
      "    library_dirs = ['D:/Anaconda3\\\\Library\\\\lib']\n",
      "    define_macros = [('SCIPY_MKL_H', None), ('HAVE_CBLAS', None)]\n",
      "    include_dirs = ['C:\\\\Program Files (x86)\\\\IntelSWTools\\\\compilers_and_libraries_2019.0.117\\\\windows\\\\mkl', 'C:\\\\Program Files (x86)\\\\IntelSWTools\\\\compilers_and_libraries_2019.0.117\\\\windows\\\\mkl\\\\include', 'C:\\\\Program Files (x86)\\\\IntelSWTools\\\\compilers_and_libraries_2019.0.117\\\\windows\\\\mkl\\\\lib', 'D:/Anaconda3\\\\Library\\\\include']\n",
      "lapack_mkl_info:\n",
      "    libraries = ['mkl_rt']\n",
      "    library_dirs = ['D:/Anaconda3\\\\Library\\\\lib']\n",
      "    define_macros = [('SCIPY_MKL_H', None), ('HAVE_CBLAS', None)]\n",
      "    include_dirs = ['C:\\\\Program Files (x86)\\\\IntelSWTools\\\\compilers_and_libraries_2019.0.117\\\\windows\\\\mkl', 'C:\\\\Program Files (x86)\\\\IntelSWTools\\\\compilers_and_libraries_2019.0.117\\\\windows\\\\mkl\\\\include', 'C:\\\\Program Files (x86)\\\\IntelSWTools\\\\compilers_and_libraries_2019.0.117\\\\windows\\\\mkl\\\\lib', 'D:/Anaconda3\\\\Library\\\\include']\n",
      "lapack_opt_info:\n",
      "    libraries = ['mkl_rt']\n",
      "    library_dirs = ['D:/Anaconda3\\\\Library\\\\lib']\n",
      "    define_macros = [('SCIPY_MKL_H', None), ('HAVE_CBLAS', None)]\n",
      "    include_dirs = ['C:\\\\Program Files (x86)\\\\IntelSWTools\\\\compilers_and_libraries_2019.0.117\\\\windows\\\\mkl', 'C:\\\\Program Files (x86)\\\\IntelSWTools\\\\compilers_and_libraries_2019.0.117\\\\windows\\\\mkl\\\\include', 'C:\\\\Program Files (x86)\\\\IntelSWTools\\\\compilers_and_libraries_2019.0.117\\\\windows\\\\mkl\\\\lib', 'D:/Anaconda3\\\\Library\\\\include']\n"
     ]
    }
   ],
   "source": [
    "np.show_config()"
   ]
  },
  {
   "cell_type": "code",
   "execution_count": 5,
   "metadata": {},
   "outputs": [
    {
     "name": "stdout",
     "output_type": "stream",
     "text": [
      "[0. 0. 0. 0. 0. 0. 0. 0. 0. 0.]\n"
     ]
    }
   ],
   "source": [
    "#创建一个长度为10的空向量\n",
    "print(np.zeros(10))"
   ]
  },
  {
   "cell_type": "code",
   "execution_count": 6,
   "metadata": {},
   "outputs": [
    {
     "data": {
      "text/plain": [
       "array([[0., 0., 0., 0., 0., 0., 0., 0., 0., 0.],\n",
       "       [0., 0., 0., 0., 0., 0., 0., 0., 0., 0.],\n",
       "       [0., 0., 0., 0., 0., 0., 0., 0., 0., 0.],\n",
       "       [0., 0., 0., 0., 0., 0., 0., 0., 0., 0.],\n",
       "       [0., 0., 0., 0., 0., 0., 0., 0., 0., 0.],\n",
       "       [0., 0., 0., 0., 0., 0., 0., 0., 0., 0.],\n",
       "       [0., 0., 0., 0., 0., 0., 0., 0., 0., 0.],\n",
       "       [0., 0., 0., 0., 0., 0., 0., 0., 0., 0.],\n",
       "       [0., 0., 0., 0., 0., 0., 0., 0., 0., 0.],\n",
       "       [0., 0., 0., 0., 0., 0., 0., 0., 0., 0.]])"
      ]
     },
     "execution_count": 6,
     "metadata": {},
     "output_type": "execute_result"
    }
   ],
   "source": [
    "#如何找到任何一个数组的内存大小\n",
    "data = np.zeros((10,10))\n",
    "data"
   ]
  },
  {
   "cell_type": "code",
   "execution_count": 7,
   "metadata": {},
   "outputs": [
    {
     "name": "stdout",
     "output_type": "stream",
     "text": [
      "800 bytes\n"
     ]
    }
   ],
   "source": [
    " print(\"%d bytes\"%(data.size*data.itemsize))"
   ]
  },
  {
   "cell_type": "code",
   "execution_count": 8,
   "metadata": {},
   "outputs": [
    {
     "name": "stdout",
     "output_type": "stream",
     "text": [
      "add(x1, x2, /, out=None, *, where=True, casting='same_kind', order='K', dtype=None, subok=True[, signature, extobj])\n",
      "\n",
      "Add arguments element-wise.\n",
      "\n",
      "Parameters\n",
      "----------\n",
      "x1, x2 : array_like\n",
      "    The arrays to be added.  If ``x1.shape != x2.shape``, they must be\n",
      "    broadcastable to a common shape (which may be the shape of one or\n",
      "    the other).\n",
      "out : ndarray, None, or tuple of ndarray and None, optional\n",
      "    A location into which the result is stored. If provided, it must have\n",
      "    a shape that the inputs broadcast to. If not provided or `None`,\n",
      "    a freshly-allocated array is returned. A tuple (possible only as a\n",
      "    keyword argument) must have length equal to the number of outputs.\n",
      "where : array_like, optional\n",
      "    Values of True indicate to calculate the ufunc at that position, values\n",
      "    of False indicate to leave the value in the output alone.\n",
      "**kwargs\n",
      "    For other keyword-only arguments, see the\n",
      "    :ref:`ufunc docs <ufuncs.kwargs>`.\n",
      "\n",
      "Returns\n",
      "-------\n",
      "add : ndarray or scalar\n",
      "    The sum of `x1` and `x2`, element-wise.\n",
      "    This is a scalar if both `x1` and `x2` are scalars.\n",
      "\n",
      "Notes\n",
      "-----\n",
      "Equivalent to `x1` + `x2` in terms of array broadcasting.\n",
      "\n",
      "Examples\n",
      "--------\n",
      ">>> np.add(1.0, 4.0)\n",
      "5.0\n",
      ">>> x1 = np.arange(9.0).reshape((3, 3))\n",
      ">>> x2 = np.arange(3.0)\n",
      ">>> np.add(x1, x2)\n",
      "array([[  0.,   2.,   4.],\n",
      "       [  3.,   5.,   7.],\n",
      "       [  6.,   8.,  10.]])\n"
     ]
    }
   ],
   "source": [
    "#如何从命令行得到Numpy中add函数的说明文档\n",
    "np.info(np.add)"
   ]
  },
  {
   "cell_type": "code",
   "execution_count": 9,
   "metadata": {},
   "outputs": [
    {
     "name": "stdout",
     "output_type": "stream",
     "text": [
      "[0. 0. 0. 0. 1. 0. 0. 0. 0. 0.]\n"
     ]
    }
   ],
   "source": [
    "#创建一个长度为10并且除了第五个值为1的空向量\n",
    "data = np.zeros(10)\n",
    "data[4] = 1\n",
    "print(data)"
   ]
  },
  {
   "cell_type": "code",
   "execution_count": 10,
   "metadata": {},
   "outputs": [
    {
     "name": "stdout",
     "output_type": "stream",
     "text": [
      "[10 11 12 13 14 15 16 17 18 19 20 21 22 23 24 25 26 27 28 29 30 31 32 33\n",
      " 34 35 36 37 38 39 40 41 42 43 44 45 46 47 48 49]\n"
     ]
    }
   ],
   "source": [
    "#创建一个值域范围从10到49的向量\n",
    "data = np.arange(10,50)\n",
    "print(data)"
   ]
  },
  {
   "cell_type": "code",
   "execution_count": 11,
   "metadata": {},
   "outputs": [
    {
     "name": "stdout",
     "output_type": "stream",
     "text": [
      "[6 5 4 3 2 1]\n"
     ]
    }
   ],
   "source": [
    "#反转一个向量\n",
    "a = np.array([1,2,3,4,5,6])\n",
    "b = a[::-1]\n",
    "print(b)"
   ]
  },
  {
   "cell_type": "code",
   "execution_count": 12,
   "metadata": {},
   "outputs": [
    {
     "name": "stdout",
     "output_type": "stream",
     "text": [
      "[[0 1 2]\n",
      " [3 4 5]\n",
      " [6 7 8]]\n"
     ]
    }
   ],
   "source": [
    "#创建一个3*3并且值从0到8的矩阵\n",
    "a = np.arange(9).reshape(3,3)\n",
    "print(a)"
   ]
  },
  {
   "cell_type": "code",
   "execution_count": 13,
   "metadata": {},
   "outputs": [
    {
     "data": {
      "text/plain": [
       "(array([0, 1, 4], dtype=int64),)"
      ]
     },
     "execution_count": 13,
     "metadata": {},
     "output_type": "execute_result"
    }
   ],
   "source": [
    "#找到数组[1，2，0，0，4，0]中非0元素的位置索引\n",
    "nz = np.nonzero([1,2,0,0,4,0])\n",
    "nz"
   ]
  },
  {
   "cell_type": "code",
   "execution_count": 14,
   "metadata": {},
   "outputs": [
    {
     "data": {
      "text/plain": [
       "array([[1., 0., 0.],\n",
       "       [0., 1., 0.],\n",
       "       [0., 0., 1.]])"
      ]
     },
     "execution_count": 14,
     "metadata": {},
     "output_type": "execute_result"
    }
   ],
   "source": [
    "#创建一个3*3的单位矩阵\n",
    "data = np.eye(3)\n",
    "data"
   ]
  },
  {
   "cell_type": "code",
   "execution_count": 15,
   "metadata": {},
   "outputs": [
    {
     "data": {
      "text/plain": [
       "array([[[0.23383651, 0.10799722, 0.02399378],\n",
       "        [0.33549281, 0.84078579, 0.51972827],\n",
       "        [0.9284153 , 0.63664638, 0.16289428]],\n",
       "\n",
       "       [[0.62286767, 0.84026283, 0.30348376],\n",
       "        [0.53787215, 0.94324681, 0.37668663],\n",
       "        [0.4556853 , 0.76436018, 0.62335582]],\n",
       "\n",
       "       [[0.78089836, 0.32195731, 0.52967258],\n",
       "        [0.45618314, 0.82460866, 0.40969143],\n",
       "        [0.49920557, 0.2682597 , 0.2553398 ]]])"
      ]
     },
     "execution_count": 15,
     "metadata": {},
     "output_type": "execute_result"
    }
   ],
   "source": [
    "#创建一个3*3*3的随机数组\n",
    "data = np.random.random((3,3,3))\n",
    "data"
   ]
  },
  {
   "cell_type": "code",
   "execution_count": 16,
   "metadata": {},
   "outputs": [
    {
     "name": "stdout",
     "output_type": "stream",
     "text": [
      "[[0.61061991 0.43061997 0.94448061 0.37530566 0.08939037 0.01772272\n",
      "  0.10113274 0.09960076 0.10254467 0.05085495]\n",
      " [0.5258647  0.39120363 0.76087852 0.8255672  0.49200878 0.53301896\n",
      "  0.04484105 0.7943735  0.97051246 0.02678924]\n",
      " [0.718087   0.85225193 0.53699582 0.47299091 0.00333951 0.05076847\n",
      "  0.9280505  0.52530794 0.57532041 0.43436983]\n",
      " [0.61526103 0.9660548  0.58191328 0.90942694 0.22335036 0.24471451\n",
      "  0.13844439 0.02347888 0.73342158 0.13155305]\n",
      " [0.00992654 0.38522013 0.31766642 0.72759462 0.7249528  0.59142913\n",
      "  0.91897453 0.61267294 0.57954973 0.0612617 ]\n",
      " [0.24306655 0.76267227 0.28337692 0.02906144 0.71267463 0.49967628\n",
      "  0.11433236 0.74405451 0.88697393 0.51143833]\n",
      " [0.22828382 0.35043498 0.617249   0.80778536 0.73416701 0.07621036\n",
      "  0.38149044 0.79679656 0.80883678 0.58837188]\n",
      " [0.50800736 0.9566656  0.90328938 0.58364147 0.08468897 0.20314941\n",
      "  0.22232429 0.736568   0.72444282 0.70782049]\n",
      " [0.5379317  0.81717834 0.42301525 0.14699739 0.91956361 0.3852844\n",
      "  0.9500631  0.92468548 0.65705667 0.07656993]\n",
      " [0.69282854 0.96767306 0.35868313 0.53343999 0.92781343 0.71854281\n",
      "  0.45059155 0.64829386 0.26816916 0.39691266]]\n",
      "0.0033395095518345963 0.9705124558221117\n"
     ]
    }
   ],
   "source": [
    "#创建一个10*10的随机数组并找到他的最大值和最小值\n",
    "data = np.random.random((10,10))\n",
    "print(data)\n",
    "datamin,datamax = data.min(),data.max()\n",
    "print(datamin,datamax)"
   ]
  },
  {
   "cell_type": "code",
   "execution_count": 17,
   "metadata": {},
   "outputs": [
    {
     "name": "stdout",
     "output_type": "stream",
     "text": [
      "[0.34514911 0.29583625 0.62419867 0.18372225 0.35446635 0.95947108\n",
      " 0.38556611 0.0337543  0.753501   0.92392592 0.39468717 0.56477986\n",
      " 0.2028411  0.6057377  0.76364788 0.50867409 0.26122137 0.6598473\n",
      " 0.87475237 0.1333671  0.88749517 0.60518698 0.83376954 0.0539304\n",
      " 0.66896939 0.46735221 0.34703718 0.52539828 0.5162611  0.40945537]\n",
      "0.5048000873588914\n"
     ]
    }
   ],
   "source": [
    "#创建一个长度为30的随机向量并找到他的平均值\n",
    "data = np.random.random(30)\n",
    "print(data)\n",
    "m = data.mean()\n",
    "print(m)"
   ]
  },
  {
   "cell_type": "code",
   "execution_count": 18,
   "metadata": {},
   "outputs": [
    {
     "name": "stdout",
     "output_type": "stream",
     "text": [
      "[[1. 1. 1. 1. 1. 1. 1. 1. 1. 1.]\n",
      " [1. 0. 0. 0. 0. 0. 0. 0. 0. 1.]\n",
      " [1. 0. 0. 0. 0. 0. 0. 0. 0. 1.]\n",
      " [1. 0. 0. 0. 0. 0. 0. 0. 0. 1.]\n",
      " [1. 0. 0. 0. 0. 0. 0. 0. 0. 1.]\n",
      " [1. 0. 0. 0. 0. 0. 0. 0. 0. 1.]\n",
      " [1. 0. 0. 0. 0. 0. 0. 0. 0. 1.]\n",
      " [1. 0. 0. 0. 0. 0. 0. 0. 0. 1.]\n",
      " [1. 0. 0. 0. 0. 0. 0. 0. 0. 1.]\n",
      " [1. 1. 1. 1. 1. 1. 1. 1. 1. 1.]]\n"
     ]
    }
   ],
   "source": [
    "#创建一个二维数组，其中边界值为1，其余值为0\n",
    "data = np.ones((10,10))\n",
    "data[1:-1,1:-1] = 0\n",
    "print(data)"
   ]
  },
  {
   "cell_type": "code",
   "execution_count": 19,
   "metadata": {},
   "outputs": [
    {
     "name": "stdout",
     "output_type": "stream",
     "text": [
      "[[0. 0. 0. 0. 0. 0. 0.]\n",
      " [0. 1. 1. 1. 1. 1. 0.]\n",
      " [0. 1. 1. 1. 1. 1. 0.]\n",
      " [0. 1. 1. 1. 1. 1. 0.]\n",
      " [0. 1. 1. 1. 1. 1. 0.]\n",
      " [0. 1. 1. 1. 1. 1. 0.]\n",
      " [0. 0. 0. 0. 0. 0. 0.]]\n"
     ]
    }
   ],
   "source": [
    "#对于一个存在数组，如何添加一个用0填充的边界\n",
    "data = np.ones((5,5))\n",
    "data = np.pad(data,pad_width=1,mode='constant',constant_values=0)\n",
    "print(data)"
   ]
  },
  {
   "cell_type": "code",
   "execution_count": 20,
   "metadata": {},
   "outputs": [
    {
     "name": "stdout",
     "output_type": "stream",
     "text": [
      "nan\n"
     ]
    }
   ],
   "source": [
    "#以下表达式运行的结果分别是什么\n",
    "print(0 * np.nan)"
   ]
  },
  {
   "cell_type": "code",
   "execution_count": 21,
   "metadata": {},
   "outputs": [
    {
     "name": "stdout",
     "output_type": "stream",
     "text": [
      "False\n"
     ]
    }
   ],
   "source": [
    "print(np.nan == np.nan)"
   ]
  },
  {
   "cell_type": "code",
   "execution_count": 22,
   "metadata": {},
   "outputs": [
    {
     "name": "stdout",
     "output_type": "stream",
     "text": [
      "False\n"
     ]
    }
   ],
   "source": [
    "print(np.inf > np.nan)"
   ]
  },
  {
   "cell_type": "code",
   "execution_count": 23,
   "metadata": {},
   "outputs": [
    {
     "name": "stdout",
     "output_type": "stream",
     "text": [
      "nan\n"
     ]
    }
   ],
   "source": [
    "print(np.nan - np.nan)"
   ]
  },
  {
   "cell_type": "code",
   "execution_count": 24,
   "metadata": {},
   "outputs": [
    {
     "name": "stdout",
     "output_type": "stream",
     "text": [
      "False\n"
     ]
    }
   ],
   "source": [
    "print(0.3 == 3 * 0.1)"
   ]
  },
  {
   "cell_type": "code",
   "execution_count": 25,
   "metadata": {},
   "outputs": [
    {
     "name": "stdout",
     "output_type": "stream",
     "text": [
      "[[0 0 0 0 0]\n",
      " [1 0 0 0 0]\n",
      " [0 2 0 0 0]\n",
      " [0 0 3 0 0]\n",
      " [0 0 0 4 0]]\n"
     ]
    }
   ],
   "source": [
    "#创建一个5*5的矩阵，并设置值1，2，3，4落在对角线下方位置\n",
    "a = np.diag(np.arange(1,5),k=-1)\n",
    "print(a)"
   ]
  },
  {
   "cell_type": "code",
   "execution_count": 26,
   "metadata": {},
   "outputs": [
    {
     "name": "stdout",
     "output_type": "stream",
     "text": [
      "[[0 1 0 1 0 1 0 1]\n",
      " [1 0 1 0 1 0 1 0]\n",
      " [0 1 0 1 0 1 0 1]\n",
      " [1 0 1 0 1 0 1 0]\n",
      " [0 1 0 1 0 1 0 1]\n",
      " [1 0 1 0 1 0 1 0]\n",
      " [0 1 0 1 0 1 0 1]\n",
      " [1 0 1 0 1 0 1 0]]\n"
     ]
    }
   ],
   "source": [
    "#创建一个8*8的矩阵，并且设置成棋盘样式\n",
    "data = np.zeros((8,8),dtype=int)\n",
    "data[1::2,::2] = 1\n",
    "data[::2,1::2] = 1\n",
    "print(data)"
   ]
  },
  {
   "cell_type": "code",
   "execution_count": 27,
   "metadata": {},
   "outputs": [
    {
     "data": {
      "text/plain": [
       "(1, 5, 4)"
      ]
     },
     "execution_count": 27,
     "metadata": {},
     "output_type": "execute_result"
    }
   ],
   "source": [
    "#考虑一个(6,7,8)形状的数组，其第100个元素的索引(x,y,z)是什么\n",
    "np.unravel_index(100,(6,7,8))"
   ]
  },
  {
   "cell_type": "code",
   "execution_count": 28,
   "metadata": {},
   "outputs": [
    {
     "name": "stdout",
     "output_type": "stream",
     "text": [
      "[[0 1 0 1 0 1 0 1]\n",
      " [1 0 1 0 1 0 1 0]\n",
      " [0 1 0 1 0 1 0 1]\n",
      " [1 0 1 0 1 0 1 0]\n",
      " [0 1 0 1 0 1 0 1]\n",
      " [1 0 1 0 1 0 1 0]\n",
      " [0 1 0 1 0 1 0 1]\n",
      " [1 0 1 0 1 0 1 0]]\n"
     ]
    }
   ],
   "source": [
    "#用tile函数去创建一个8*8的棋盘样式矩阵\n",
    "data = np.tile(np.array([[0,1],[1,0]]),(4,4))\n",
    "print(data)"
   ]
  },
  {
   "cell_type": "code",
   "execution_count": 30,
   "metadata": {},
   "outputs": [
    {
     "name": "stdout",
     "output_type": "stream",
     "text": [
      "[[0.33710206 0.25398976 0.28103766 0.41017971 0.58720724]\n",
      " [0.45142026 0.48385884 0.18747456 0.46119969 0.48178248]\n",
      " [0.10767304 1.         0.39819988 0.14272088 0.59759889]\n",
      " [0.88130955 0.92959623 0.27402478 0.34751436 0.        ]\n",
      " [0.77369093 0.05152328 0.10138122 0.91861432 0.2266445 ]]\n"
     ]
    }
   ],
   "source": [
    "#对一个5*5的随机矩阵做归一化\n",
    "data = np.random.random((5,5))\n",
    "datamax,datamin = data.max(),data.min()\n",
    "data = (data-datamin)/(datamax-datamin)\n",
    "print(data)"
   ]
  },
  {
   "cell_type": "code",
   "execution_count": 31,
   "metadata": {},
   "outputs": [
    {
     "data": {
      "text/plain": [
       "dtype([('r', 'u1'), ('g', 'u1'), ('b', 'u1'), ('a', 'u1')])"
      ]
     },
     "execution_count": 31,
     "metadata": {},
     "output_type": "execute_result"
    }
   ],
   "source": [
    "#创建一个将颜色描述为(RGBA)四个无符号字节的自定义dtype？\n",
    "color = np.dtype([(\"r\",np.ubyte,1),\n",
    "                 (\"g\",np.ubyte,1),\n",
    "                 (\"b\",np.ubyte,1),\n",
    "                 (\"a\",np.ubyte,1)])\n",
    "color"
   ]
  },
  {
   "cell_type": "code",
   "execution_count": 32,
   "metadata": {},
   "outputs": [
    {
     "data": {
      "text/plain": [
       "array([[3., 3.],\n",
       "       [3., 3.],\n",
       "       [3., 3.],\n",
       "       [3., 3.],\n",
       "       [3., 3.]])"
      ]
     },
     "execution_count": 32,
     "metadata": {},
     "output_type": "execute_result"
    }
   ],
   "source": [
    "#一个5*3的矩阵与一个3*2的矩阵相乘，实矩阵乘积是什么？\n",
    "data = np.dot(np.ones((5,3)),np.ones((3,2)))\n",
    "data"
   ]
  },
  {
   "cell_type": "code",
   "execution_count": 33,
   "metadata": {},
   "outputs": [
    {
     "name": "stdout",
     "output_type": "stream",
     "text": [
      "[ 0  1  2  3 -4 -5 -6 -7 -8  9]\n"
     ]
    }
   ],
   "source": [
    "#给定一个一维数组，对其在3到8之间的所有元素取反\n",
    "data = np.arange(10)\n",
    "data[(3<data)&(data<=8)]*=-1\n",
    "print(data)"
   ]
  },
  {
   "cell_type": "code",
   "execution_count": 34,
   "metadata": {},
   "outputs": [
    {
     "name": "stdout",
     "output_type": "stream",
     "text": [
      "9\n"
     ]
    }
   ],
   "source": [
    "#下面脚本运行后的结果是什么？\n",
    "print(sum(range(5),-1))"
   ]
  },
  {
   "cell_type": "code",
   "execution_count": 35,
   "metadata": {},
   "outputs": [
    {
     "name": "stdout",
     "output_type": "stream",
     "text": [
      "10\n"
     ]
    }
   ],
   "source": [
    "from numpy import *\n",
    "print(sum(range(5),-1))"
   ]
  },
  {
   "cell_type": "code",
   "execution_count": 36,
   "metadata": {},
   "outputs": [
    {
     "data": {
      "text/plain": [
       "array([  1,   1,   4,  27, 256], dtype=int32)"
      ]
     },
     "execution_count": 36,
     "metadata": {},
     "output_type": "execute_result"
    }
   ],
   "source": [
    "#考虑一个整数向量Z，下列表达合法的是哪个？\n",
    "z = np.arange(5)\n",
    "z**z"
   ]
  },
  {
   "cell_type": "code",
   "execution_count": 37,
   "metadata": {},
   "outputs": [
    {
     "data": {
      "text/plain": [
       "array([0, 1, 2, 4, 8], dtype=int32)"
      ]
     },
     "execution_count": 37,
     "metadata": {},
     "output_type": "execute_result"
    }
   ],
   "source": [
    "z = np.arange(5)\n",
    "2<<z>>2"
   ]
  },
  {
   "cell_type": "code",
   "execution_count": 38,
   "metadata": {},
   "outputs": [
    {
     "data": {
      "text/plain": [
       "array([False, False, False, False, False])"
      ]
     },
     "execution_count": 38,
     "metadata": {},
     "output_type": "execute_result"
    }
   ],
   "source": [
    "z = np.arange(5)\n",
    "z<-z"
   ]
  },
  {
   "cell_type": "code",
   "execution_count": 39,
   "metadata": {},
   "outputs": [
    {
     "data": {
      "text/plain": [
       "array([0.+0.j, 0.+1.j, 0.+2.j, 0.+3.j, 0.+4.j])"
      ]
     },
     "execution_count": 39,
     "metadata": {},
     "output_type": "execute_result"
    }
   ],
   "source": [
    "z = np.arange(5)\n",
    "1j*z"
   ]
  },
  {
   "cell_type": "code",
   "execution_count": 40,
   "metadata": {},
   "outputs": [
    {
     "data": {
      "text/plain": [
       "array([0., 1., 2., 3., 4.])"
      ]
     },
     "execution_count": 40,
     "metadata": {},
     "output_type": "execute_result"
    }
   ],
   "source": [
    "z = np.arange(5)\n",
    "z/1/1"
   ]
  },
  {
   "cell_type": "code",
   "execution_count": 43,
   "metadata": {},
   "outputs": [
    {
     "name": "stderr",
     "output_type": "stream",
     "text": [
      "D:\\Anaconda3\\lib\\site-packages\\ipykernel_launcher.py:2: RuntimeWarning: invalid value encountered in true_divide\n",
      "  \n"
     ]
    },
    {
     "data": {
      "text/plain": [
       "nan"
      ]
     },
     "execution_count": 43,
     "metadata": {},
     "output_type": "execute_result"
    }
   ],
   "source": [
    "#下列表达式的结果分别是什么？\n",
    "np.array(0)/np.array(0)"
   ]
  },
  {
   "cell_type": "code",
   "execution_count": 44,
   "metadata": {},
   "outputs": [
    {
     "name": "stderr",
     "output_type": "stream",
     "text": [
      "D:\\Anaconda3\\lib\\site-packages\\ipykernel_launcher.py:1: RuntimeWarning: divide by zero encountered in floor_divide\n",
      "  \"\"\"Entry point for launching an IPython kernel.\n"
     ]
    },
    {
     "data": {
      "text/plain": [
       "0"
      ]
     },
     "execution_count": 44,
     "metadata": {},
     "output_type": "execute_result"
    }
   ],
   "source": [
    "np.array(0)//np.array(0)"
   ]
  },
  {
   "cell_type": "code",
   "execution_count": 45,
   "metadata": {},
   "outputs": [
    {
     "data": {
      "text/plain": [
       "array([-2.14748365e+09])"
      ]
     },
     "execution_count": 45,
     "metadata": {},
     "output_type": "execute_result"
    }
   ],
   "source": [
    "np.array([np.nan]).astype(int).astype(float)"
   ]
  },
  {
   "cell_type": "code",
   "execution_count": 48,
   "metadata": {},
   "outputs": [
    {
     "name": "stdout",
     "output_type": "stream",
     "text": [
      "[  4.  -7.   5. -10.  10.  10.  -1.   1.  -1.  -3.]\n"
     ]
    }
   ],
   "source": [
    "#如何从零位对浮点数组做舍入？\n",
    "data = np.random.uniform(-10,+10,10)\n",
    "print(np.copysign(np.ceil(np.abs(data)),data))"
   ]
  },
  {
   "cell_type": "code",
   "execution_count": 49,
   "metadata": {},
   "outputs": [
    {
     "name": "stdout",
     "output_type": "stream",
     "text": [
      "[1 3 6 7 9]\n"
     ]
    }
   ],
   "source": [
    "#如何找到两个数组中的共同元素？\n",
    "data1 = np.random.randint(0,10,10)\n",
    "data2 = np.random.randint(0,10,10)\n",
    "print(np.intersect1d(data1,data2))"
   ]
  },
  {
   "cell_type": "code",
   "execution_count": 50,
   "metadata": {},
   "outputs": [],
   "source": [
    "#如何忽略所有的numpy警告(尽管不建议这么做)？\n",
    "defults = np.seterr(all=\"ignore\")\n",
    "data = np.ones(1)/0"
   ]
  },
  {
   "cell_type": "code",
   "execution_count": 51,
   "metadata": {},
   "outputs": [
    {
     "data": {
      "text/plain": [
       "False"
      ]
     },
     "execution_count": 51,
     "metadata": {},
     "output_type": "execute_result"
    }
   ],
   "source": [
    "#下面的表达式是正确的吗？\n",
    "np.sqrt(-1) == np.emath.sqrt(-1)"
   ]
  },
  {
   "cell_type": "code",
   "execution_count": 52,
   "metadata": {},
   "outputs": [
    {
     "data": {
      "text/plain": [
       "numpy.timedelta64(19769,'D')"
      ]
     },
     "execution_count": 52,
     "metadata": {},
     "output_type": "execute_result"
    }
   ],
   "source": [
    "#如何得到昨天，今天，明天的日期？\n",
    "yesterday = np.datetime64(\"today\",\"D\")-np.datetime64(1,\"D\")\n",
    "yesterday"
   ]
  },
  {
   "cell_type": "code",
   "execution_count": 53,
   "metadata": {},
   "outputs": [
    {
     "data": {
      "text/plain": [
       "numpy.datetime64('2024-02-17')"
      ]
     },
     "execution_count": 53,
     "metadata": {},
     "output_type": "execute_result"
    }
   ],
   "source": [
    "today = np.datetime64(\"today\",\"D\")\n",
    "today"
   ]
  },
  {
   "cell_type": "code",
   "execution_count": 55,
   "metadata": {},
   "outputs": [
    {
     "data": {
      "text/plain": [
       "numpy.datetime64('2024-02-18')"
      ]
     },
     "execution_count": 55,
     "metadata": {},
     "output_type": "execute_result"
    }
   ],
   "source": [
    "tomorrow = np.datetime64(\"today\",\"D\")+np.timedelta64(1,\"D\")\n",
    "tomorrow"
   ]
  },
  {
   "cell_type": "code",
   "execution_count": 56,
   "metadata": {},
   "outputs": [
    {
     "data": {
      "text/plain": [
       "array(['2016-07-01', '2016-07-02', '2016-07-03', '2016-07-04',\n",
       "       '2016-07-05', '2016-07-06', '2016-07-07', '2016-07-08',\n",
       "       '2016-07-09', '2016-07-10', '2016-07-11', '2016-07-12',\n",
       "       '2016-07-13', '2016-07-14', '2016-07-15', '2016-07-16',\n",
       "       '2016-07-17', '2016-07-18', '2016-07-19', '2016-07-20',\n",
       "       '2016-07-21', '2016-07-22', '2016-07-23', '2016-07-24',\n",
       "       '2016-07-25', '2016-07-26', '2016-07-27', '2016-07-28',\n",
       "       '2016-07-29', '2016-07-30', '2016-07-31'], dtype='datetime64[D]')"
      ]
     },
     "execution_count": 56,
     "metadata": {},
     "output_type": "execute_result"
    }
   ],
   "source": [
    "#如何得到所有与2016年7月对应的日期？\n",
    "data = np.arange(\"2016-07\",\"2016-08\",dtype=\"datetime64[D]\")\n",
    "data"
   ]
  },
  {
   "cell_type": "code",
   "execution_count": 57,
   "metadata": {},
   "outputs": [
    {
     "data": {
      "text/plain": [
       "array([3., 3., 3.])"
      ]
     },
     "execution_count": 57,
     "metadata": {},
     "output_type": "execute_result"
    }
   ],
   "source": [
    "#如何直接在位计算(A+B)*(-A/2)(不建立副本)？\n",
    "A = np.ones(3)*1\n",
    "B = np.ones(3)*2\n",
    "C = np.ones(3)*3\n",
    "np.add(A,B,out=B)"
   ]
  },
  {
   "cell_type": "code",
   "execution_count": 58,
   "metadata": {},
   "outputs": [
    {
     "data": {
      "text/plain": [
       "array([0.5, 0.5, 0.5])"
      ]
     },
     "execution_count": 58,
     "metadata": {},
     "output_type": "execute_result"
    }
   ],
   "source": [
    "np.divide(A,2,out=A)"
   ]
  },
  {
   "cell_type": "code",
   "execution_count": 60,
   "metadata": {},
   "outputs": [
    {
     "name": "stdout",
     "output_type": "stream",
     "text": [
      "[5. 6. 1. 2. 1. 9. 0. 4. 2. 6.]\n"
     ]
    }
   ],
   "source": [
    "#用五种不同的方法去提取一个随机数组的整数部分\n",
    "data1 = np.random.uniform(0,10,10)\n",
    "print(data1-data1%1)"
   ]
  },
  {
   "cell_type": "code",
   "execution_count": 61,
   "metadata": {},
   "outputs": [
    {
     "data": {
      "text/plain": [
       "array([5., 6., 1., 2., 1., 9., 0., 4., 2., 6.])"
      ]
     },
     "execution_count": 61,
     "metadata": {},
     "output_type": "execute_result"
    }
   ],
   "source": [
    "np.floor(data1)"
   ]
  },
  {
   "cell_type": "code",
   "execution_count": 62,
   "metadata": {},
   "outputs": [
    {
     "data": {
      "text/plain": [
       "array([ 5.,  6.,  1.,  2.,  1.,  9., -0.,  4.,  2.,  6.])"
      ]
     },
     "execution_count": 62,
     "metadata": {},
     "output_type": "execute_result"
    }
   ],
   "source": [
    "np.ceil((data1)-1)"
   ]
  },
  {
   "cell_type": "code",
   "execution_count": 63,
   "metadata": {},
   "outputs": [
    {
     "data": {
      "text/plain": [
       "array([5, 6, 1, 2, 1, 9, 0, 4, 2, 6])"
      ]
     },
     "execution_count": 63,
     "metadata": {},
     "output_type": "execute_result"
    }
   ],
   "source": [
    "data1.astype(int)"
   ]
  },
  {
   "cell_type": "code",
   "execution_count": 64,
   "metadata": {},
   "outputs": [
    {
     "data": {
      "text/plain": [
       "array([5., 6., 1., 2., 1., 9., 0., 4., 2., 6.])"
      ]
     },
     "execution_count": 64,
     "metadata": {},
     "output_type": "execute_result"
    }
   ],
   "source": [
    "np.trunc(data1)"
   ]
  },
  {
   "cell_type": "code",
   "execution_count": 65,
   "metadata": {},
   "outputs": [
    {
     "name": "stdout",
     "output_type": "stream",
     "text": [
      "[[0. 1. 2. 3. 4.]\n",
      " [0. 1. 2. 3. 4.]\n",
      " [0. 1. 2. 3. 4.]\n",
      " [0. 1. 2. 3. 4.]\n",
      " [0. 1. 2. 3. 4.]]\n"
     ]
    }
   ],
   "source": [
    "#创建一个5*5的矩阵，其中每行的数值范围从0到4\n",
    "data = np.zeros((5,5))\n",
    "data += np.arange(5)\n",
    "print(data)"
   ]
  },
  {
   "cell_type": "code",
   "execution_count": 66,
   "metadata": {},
   "outputs": [
    {
     "name": "stdout",
     "output_type": "stream",
     "text": [
      "[0. 1. 2. 3. 4. 5. 6. 7. 8. 9.]\n"
     ]
    }
   ],
   "source": [
    "#通过考虑一个可生成10个整数的函数，来构建一个数组\n",
    "def genter():\n",
    "    for x in range(10):\n",
    "        yield x\n",
    "data = np.fromiter(genter(),dtype=float,count=-1)\n",
    "print(data)"
   ]
  },
  {
   "cell_type": "code",
   "execution_count": 67,
   "metadata": {},
   "outputs": [
    {
     "data": {
      "text/plain": [
       "array([0.09090909, 0.18181818, 0.27272727, 0.36363636, 0.45454545,\n",
       "       0.54545455, 0.63636364, 0.72727273, 0.81818182, 0.90909091])"
      ]
     },
     "execution_count": 67,
     "metadata": {},
     "output_type": "execute_result"
    }
   ],
   "source": [
    "#创建一个长度为10的随机向量，其值域范围从0到1，但是不包括0和1\n",
    "data = np.linspace(0,1,11,endpoint=False)[1:]\n",
    "data"
   ]
  },
  {
   "cell_type": "code",
   "execution_count": 68,
   "metadata": {},
   "outputs": [
    {
     "data": {
      "text/plain": [
       "array([0.04097179, 0.06187073, 0.1002216 , 0.22026628, 0.2729469 ,\n",
       "       0.29583529, 0.63728294, 0.70703438, 0.91112543, 0.98950066])"
      ]
     },
     "execution_count": 68,
     "metadata": {},
     "output_type": "execute_result"
    }
   ],
   "source": [
    "#创建一个长度为10的随机向量，并将其排序\n",
    "data = np.random.random(10)\n",
    "data.sort()\n",
    "data"
   ]
  },
  {
   "cell_type": "code",
   "execution_count": 69,
   "metadata": {},
   "outputs": [
    {
     "data": {
      "text/plain": [
       "45"
      ]
     },
     "execution_count": 69,
     "metadata": {},
     "output_type": "execute_result"
    }
   ],
   "source": [
    "#对于一个小数组，如何用比np.sum更快的方式对其求和？\n",
    "data = np.arange(10)\n",
    "np.add.reduce(data)"
   ]
  },
  {
   "cell_type": "code",
   "execution_count": 70,
   "metadata": {},
   "outputs": [
    {
     "name": "stdout",
     "output_type": "stream",
     "text": [
      "False\n"
     ]
    }
   ],
   "source": [
    "#对于两个随机数组A和B，检查他们是否相等\n",
    "A = np.random.randint(0,2,5)\n",
    "B = np.random.randint(0,2,5)\n",
    "equal = np.allclose(A,B)\n",
    "print(equal)"
   ]
  },
  {
   "cell_type": "code",
   "execution_count": 71,
   "metadata": {},
   "outputs": [
    {
     "data": {
      "text/plain": [
       "False"
      ]
     },
     "execution_count": 71,
     "metadata": {},
     "output_type": "execute_result"
    }
   ],
   "source": [
    "data1 = np.array_equal(A,B)\n",
    "data1"
   ]
  },
  {
   "cell_type": "code",
   "execution_count": 73,
   "metadata": {},
   "outputs": [],
   "source": [
    "#创建一个只读数组(read-only)\n",
    "z = np.zeros(10)\n",
    "z.flags.writeable = False\n",
    "#z[0] = 1"
   ]
  },
  {
   "cell_type": "code",
   "execution_count": 74,
   "metadata": {},
   "outputs": [
    {
     "name": "stdout",
     "output_type": "stream",
     "text": [
      "[1.19269656 0.51695959 0.47727986 0.66246769 0.28939142 0.20874633\n",
      " 0.76460401 1.16693016 1.15623722 0.4263053 ]\n"
     ]
    }
   ],
   "source": [
    "#将笛卡尔坐标下的一个10*2的矩阵转换为极坐标形式\n",
    "data = np.random.random((10,2))\n",
    "X,Y = data[:,0],data[:,1]\n",
    "R = np.sqrt(X**2+Y**2)\n",
    "T = np.arctan2(Y,X)\n",
    "print(R)"
   ]
  },
  {
   "cell_type": "code",
   "execution_count": 75,
   "metadata": {},
   "outputs": [
    {
     "name": "stdout",
     "output_type": "stream",
     "text": [
      "[0.5880862  0.24229842 0.69617713 1.45260369 0.1897875  0.80913872\n",
      " 0.82491812 0.67694773 0.85050321 0.67922102]\n"
     ]
    }
   ],
   "source": [
    "print(T)"
   ]
  },
  {
   "cell_type": "code",
   "execution_count": 77,
   "metadata": {},
   "outputs": [
    {
     "name": "stdout",
     "output_type": "stream",
     "text": [
      "[1.         0.18711632 0.81777362 0.02854654 0.1913595  0.74430849\n",
      " 0.23361688 0.65850971 0.9310438  0.85569676]\n"
     ]
    }
   ],
   "source": [
    "#创建一个长度为10的向量，并将向量中最大值替换为1\n",
    "data = np.random.random(10)\n",
    "data[data.argmax()]=1\n",
    "print(data)"
   ]
  },
  {
   "cell_type": "code",
   "execution_count": 78,
   "metadata": {},
   "outputs": [
    {
     "name": "stdout",
     "output_type": "stream",
     "text": [
      "[[(0.  , 0.  ) (0.25, 0.  ) (0.5 , 0.  ) (0.75, 0.  ) (1.  , 0.  )]\n",
      " [(0.  , 0.25) (0.25, 0.25) (0.5 , 0.25) (0.75, 0.25) (1.  , 0.25)]\n",
      " [(0.  , 0.5 ) (0.25, 0.5 ) (0.5 , 0.5 ) (0.75, 0.5 ) (1.  , 0.5 )]\n",
      " [(0.  , 0.75) (0.25, 0.75) (0.5 , 0.75) (0.75, 0.75) (1.  , 0.75)]\n",
      " [(0.  , 1.  ) (0.25, 1.  ) (0.5 , 1.  ) (0.75, 1.  ) (1.  , 1.  )]]\n"
     ]
    }
   ],
   "source": [
    "#创建一个结构化数组，并实现x和y坐标覆盖[0,1]x[0,1]区域\n",
    "data = np.ones((5,5),[(\"x\",float),(\"y\",float)])\n",
    "data[\"x\"],data[\"y\"] = np.meshgrid(np.linspace(0,1,5),np.linspace(0,1,5))\n",
    "print(data)"
   ]
  },
  {
   "cell_type": "code",
   "execution_count": 79,
   "metadata": {},
   "outputs": [
    {
     "name": "stdout",
     "output_type": "stream",
     "text": [
      "3638.1636371179666\n"
     ]
    }
   ],
   "source": [
    "#给定两个数组X和Y，构造Cauchy矩阵C(Cij = 1/(xi-yi))\n",
    "X = np.arange(8)\n",
    "Y = X+0.5\n",
    "C = 1.0/np.subtract.outer(X,Y)\n",
    "print(np.linalg.det(C))"
   ]
  },
  {
   "cell_type": "code",
   "execution_count": 80,
   "metadata": {},
   "outputs": [
    {
     "name": "stdout",
     "output_type": "stream",
     "text": [
      "-128\n",
      "127\n",
      "-2147483648\n",
      "2147483647\n",
      "-9223372036854775808\n",
      "9223372036854775807\n"
     ]
    }
   ],
   "source": [
    "#打印每个numpy标量类型的最小值和最大值？\n",
    "for dtype in [np.int8,np.int32,np.int64]:\n",
    "    print(np.iinfo(dtype).min)\n",
    "    print(np.iinfo(dtype).max)"
   ]
  },
  {
   "cell_type": "code",
   "execution_count": 81,
   "metadata": {},
   "outputs": [
    {
     "name": "stdout",
     "output_type": "stream",
     "text": [
      "-3.4028235e+38\n",
      "3.4028235e+38\n",
      "-1.7976931348623157e+308\n",
      "1.7976931348623157e+308\n"
     ]
    }
   ],
   "source": [
    "for dtype in [np.float32,np.float64]:\n",
    "    print(np.finfo(dtype).min)\n",
    "    print(np.finfo(dtype).max)"
   ]
  },
  {
   "cell_type": "code",
   "execution_count": 82,
   "metadata": {},
   "outputs": [
    {
     "name": "stdout",
     "output_type": "stream",
     "text": [
      "[[0. 0. 0. 0. 0. 0. 0. 0. 0. 0. 0. 0. 0. 0. 0. 0.]\n",
      " [0. 0. 0. 0. 0. 0. 0. 0. 0. 0. 0. 0. 0. 0. 0. 0.]\n",
      " [0. 0. 0. 0. 0. 0. 0. 0. 0. 0. 0. 0. 0. 0. 0. 0.]\n",
      " [0. 0. 0. 0. 0. 0. 0. 0. 0. 0. 0. 0. 0. 0. 0. 0.]\n",
      " [0. 0. 0. 0. 0. 0. 0. 0. 0. 0. 0. 0. 0. 0. 0. 0.]\n",
      " [0. 0. 0. 0. 0. 0. 0. 0. 0. 0. 0. 0. 0. 0. 0. 0.]\n",
      " [0. 0. 0. 0. 0. 0. 0. 0. 0. 0. 0. 0. 0. 0. 0. 0.]\n",
      " [0. 0. 0. 0. 0. 0. 0. 0. 0. 0. 0. 0. 0. 0. 0. 0.]\n",
      " [0. 0. 0. 0. 0. 0. 0. 0. 0. 0. 0. 0. 0. 0. 0. 0.]\n",
      " [0. 0. 0. 0. 0. 0. 0. 0. 0. 0. 0. 0. 0. 0. 0. 0.]\n",
      " [0. 0. 0. 0. 0. 0. 0. 0. 0. 0. 0. 0. 0. 0. 0. 0.]\n",
      " [0. 0. 0. 0. 0. 0. 0. 0. 0. 0. 0. 0. 0. 0. 0. 0.]\n",
      " [0. 0. 0. 0. 0. 0. 0. 0. 0. 0. 0. 0. 0. 0. 0. 0.]\n",
      " [0. 0. 0. 0. 0. 0. 0. 0. 0. 0. 0. 0. 0. 0. 0. 0.]\n",
      " [0. 0. 0. 0. 0. 0. 0. 0. 0. 0. 0. 0. 0. 0. 0. 0.]\n",
      " [0. 0. 0. 0. 0. 0. 0. 0. 0. 0. 0. 0. 0. 0. 0. 0.]]\n"
     ]
    }
   ],
   "source": [
    "#如何打印一个数组中的所有数值？\n",
    "import sys\n",
    "np.set_printoptions(threshold=sys.maxsize)\n",
    "z = np.zeros((16,16))\n",
    "print(z)"
   ]
  },
  {
   "cell_type": "code",
   "execution_count": 83,
   "metadata": {},
   "outputs": [
    {
     "name": "stdout",
     "output_type": "stream",
     "text": [
      "79\n"
     ]
    }
   ],
   "source": [
    "#给定标量时，如何找到数组中最接近标量的值？\n",
    "data = np.arange(100)\n",
    "da = np.random.uniform(0,100)\n",
    "index = (np.abs(data-da)).argmin()\n",
    "print(data[index])"
   ]
  },
  {
   "cell_type": "code",
   "execution_count": 84,
   "metadata": {},
   "outputs": [
    {
     "name": "stdout",
     "output_type": "stream",
     "text": [
      "[((0., 0.), (0., 0., 0.)) ((0., 0.), (0., 0., 0.))\n",
      " ((0., 0.), (0., 0., 0.)) ((0., 0.), (0., 0., 0.))\n",
      " ((0., 0.), (0., 0., 0.)) ((0., 0.), (0., 0., 0.))\n",
      " ((0., 0.), (0., 0., 0.)) ((0., 0.), (0., 0., 0.))\n",
      " ((0., 0.), (0., 0., 0.)) ((0., 0.), (0., 0., 0.))]\n"
     ]
    }
   ],
   "source": [
    "#创建一个表示位置(x,y)和颜色(r,g,b)的结构化数组\n",
    "data = np.zeros(10,[(\"position\",[(\"x\",float,1),\n",
    "                                (\"y\",float,1)]),\n",
    "                   (\"color\",[(\"r\",float,1),\n",
    "                            (\"g\",float,1),\n",
    "                            (\"b\",float,1)])])\n",
    "print(data)"
   ]
  },
  {
   "cell_type": "code",
   "execution_count": 7,
   "metadata": {},
   "outputs": [
    {
     "name": "stdout",
     "output_type": "stream",
     "text": [
      "[[0.         0.56079413 0.34052081 0.43975263 0.34630328 0.48236082\n",
      "  0.69089703 0.32304247 0.30935871 0.16013677]\n",
      " [0.56079413 0.         0.24382363 0.20671992 0.76276485 0.68451025\n",
      "  0.29886047 0.61151556 0.80767352 0.70781526]\n",
      " [0.34052081 0.24382363 0.         0.10640068 0.52056753 0.47440674\n",
      "  0.4754932  0.37679861 0.62475851 0.47430376]\n",
      " [0.43975263 0.20671992 0.10640068 0.         0.57321961 0.47782169\n",
      "  0.48631449 0.41323808 0.73004797 0.56316727]\n",
      " [0.34630328 0.76276485 0.52056753 0.57321961 0.         0.25534773\n",
      "  0.97403024 0.17144393 0.5485129  0.24947227]\n",
      " [0.48236082 0.68451025 0.47440674 0.47782169 0.25534773 0.\n",
      "  0.94895874 0.15954601 0.75506359 0.45874316]\n",
      " [0.69089703 0.29886047 0.4754932  0.48631449 0.97403024 0.94895874\n",
      "  0.         0.84763538 0.84515231 0.85099258]\n",
      " [0.32304247 0.61151556 0.37679861 0.41323808 0.17144393 0.15954601\n",
      "  0.84763538 0.         0.59949318 0.30955645]\n",
      " [0.30935871 0.80767352 0.62475851 0.73004797 0.5485129  0.75506359\n",
      "  0.84515231 0.59949318 0.         0.30161984]\n",
      " [0.16013677 0.70781526 0.47430376 0.56316727 0.24947227 0.45874316\n",
      "  0.85099258 0.30955645 0.30161984 0.        ]]\n"
     ]
    }
   ],
   "source": [
    "import numpy as np\n",
    "#对一个表示坐标形状为(100,2)的随机向量，找到点与点的距离\n",
    "data = np.random.random((10,2))\n",
    "X,Y = np.atleast_2d(data[:,0],data[:,1])\n",
    "D = np.sqrt((X-X.T)**2 + (Y-Y.T)**2)\n",
    "print(D)"
   ]
  },
  {
   "cell_type": "code",
   "execution_count": 8,
   "metadata": {},
   "outputs": [
    {
     "name": "stdout",
     "output_type": "stream",
     "text": [
      "[0. 1. 2. 3. 4. 5. 6. 7. 8. 9.]\n"
     ]
    }
   ],
   "source": [
    "#如何将32位的浮点数(float)转换为对应的整数(integer)?\n",
    "data = np.arange(10,dtype=np.int32)\n",
    "data = data.astype(np.float32,copy=False)\n",
    "print(data)"
   ]
  },
  {
   "cell_type": "code",
   "execution_count": 10,
   "metadata": {},
   "outputs": [
    {
     "name": "stdout",
     "output_type": "stream",
     "text": [
      "(0, 0) 0\n",
      "(0, 1) 1\n",
      "(0, 2) 2\n",
      "(1, 0) 3\n",
      "(1, 1) 4\n",
      "(1, 2) 5\n",
      "(2, 0) 6\n",
      "(2, 1) 7\n",
      "(2, 2) 8\n"
     ]
    }
   ],
   "source": [
    "#对于numpy数组，enumerate的等价操作是什么？\n",
    "data = np.arange(9).reshape(3,3)\n",
    "for index,value in np.ndenumerate(data):\n",
    "    print(index,value)"
   ]
  },
  {
   "cell_type": "code",
   "execution_count": 11,
   "metadata": {},
   "outputs": [
    {
     "name": "stdout",
     "output_type": "stream",
     "text": [
      "[[0.36787944 0.44822088 0.51979489 0.57375342 0.60279818 0.60279818\n",
      "  0.57375342 0.51979489 0.44822088 0.36787944]\n",
      " [0.44822088 0.54610814 0.63331324 0.69905581 0.73444367 0.73444367\n",
      "  0.69905581 0.63331324 0.54610814 0.44822088]\n",
      " [0.51979489 0.63331324 0.73444367 0.81068432 0.85172308 0.85172308\n",
      "  0.81068432 0.73444367 0.63331324 0.51979489]\n",
      " [0.57375342 0.69905581 0.81068432 0.89483932 0.9401382  0.9401382\n",
      "  0.89483932 0.81068432 0.69905581 0.57375342]\n",
      " [0.60279818 0.73444367 0.85172308 0.9401382  0.98773022 0.98773022\n",
      "  0.9401382  0.85172308 0.73444367 0.60279818]\n",
      " [0.60279818 0.73444367 0.85172308 0.9401382  0.98773022 0.98773022\n",
      "  0.9401382  0.85172308 0.73444367 0.60279818]\n",
      " [0.57375342 0.69905581 0.81068432 0.89483932 0.9401382  0.9401382\n",
      "  0.89483932 0.81068432 0.69905581 0.57375342]\n",
      " [0.51979489 0.63331324 0.73444367 0.81068432 0.85172308 0.85172308\n",
      "  0.81068432 0.73444367 0.63331324 0.51979489]\n",
      " [0.44822088 0.54610814 0.63331324 0.69905581 0.73444367 0.73444367\n",
      "  0.69905581 0.63331324 0.54610814 0.44822088]\n",
      " [0.36787944 0.44822088 0.51979489 0.57375342 0.60279818 0.60279818\n",
      "  0.57375342 0.51979489 0.44822088 0.36787944]]\n"
     ]
    }
   ],
   "source": [
    "#生成一个通用的二维Gaussian-like数组\n",
    "X,Y = np.meshgrid(np.linspace(-1,1,10),np.linspace(-1,1,10))\n",
    "D = np.sqrt(X*X+Y*Y)\n",
    "sigma, mu = 1.0, 0.0\n",
    "G = np.exp(-((D-mu)**2/(2.0*sigma**2)))\n",
    "print(G)"
   ]
  },
  {
   "cell_type": "code",
   "execution_count": 13,
   "metadata": {},
   "outputs": [
    {
     "name": "stdout",
     "output_type": "stream",
     "text": [
      "[[0. 0. 0. 0. 0. 0. 0. 0. 0. 0.]\n",
      " [0. 0. 0. 0. 0. 0. 0. 0. 0. 0.]\n",
      " [0. 0. 0. 0. 0. 1. 0. 0. 0. 0.]\n",
      " [0. 0. 0. 0. 0. 0. 0. 0. 0. 0.]\n",
      " [0. 1. 0. 0. 0. 0. 0. 0. 0. 0.]\n",
      " [1. 0. 0. 0. 0. 0. 1. 0. 0. 0.]\n",
      " [0. 0. 0. 0. 0. 0. 0. 0. 0. 0.]\n",
      " [0. 0. 0. 0. 0. 0. 0. 0. 0. 0.]\n",
      " [0. 0. 0. 0. 0. 0. 0. 0. 0. 0.]\n",
      " [0. 0. 0. 0. 1. 0. 0. 0. 0. 0.]]\n"
     ]
    }
   ],
   "source": [
    "#对于一个二维数组，如何在其内部随机放置p个元素？\n",
    "n = 10\n",
    "p = 5\n",
    "data = np.zeros((n,n))\n",
    "np.put(data,np.random.choice(range(n*n),p,replace=False),1)\n",
    "print(data)"
   ]
  },
  {
   "cell_type": "code",
   "execution_count": 14,
   "metadata": {},
   "outputs": [
    {
     "name": "stdout",
     "output_type": "stream",
     "text": [
      "[[ 0.0005321  -0.18012029 -0.12498044 -0.0208008  -0.28845544 -0.15203704\n",
      "   0.09190318 -0.09368927  0.44678776  0.32086023]\n",
      " [ 0.52692111  0.40438811 -0.38925068  0.1652935   0.14724653  0.01322153\n",
      "  -0.34951513 -0.17035731 -0.34218319 -0.00576446]\n",
      " [-0.16793749 -0.45315943  0.31413681  0.45647214 -0.02973205  0.3181338\n",
      "   0.05763121 -0.22521602  0.18054321 -0.45087218]\n",
      " [ 0.01425966 -0.27864991 -0.16230952 -0.28289315  0.04025225  0.04997049\n",
      "   0.03433256  0.15207491  0.22239113  0.21057159]\n",
      " [-0.21244492  0.02027802  0.00575431 -0.43330932  0.35291922  0.33254591\n",
      "   0.28627327 -0.34890708  0.02756992 -0.03067934]]\n"
     ]
    }
   ],
   "source": [
    "#减去一个矩阵中的每一行的平均值\n",
    "X = np.random.rand(5,10)\n",
    "Y = X-X.mean(axis=1,keepdims=True)\n",
    "print(Y)"
   ]
  },
  {
   "cell_type": "code",
   "execution_count": 15,
   "metadata": {},
   "outputs": [
    {
     "name": "stdout",
     "output_type": "stream",
     "text": [
      "[[2 8 4]\n",
      " [8 4 3]\n",
      " [1 5 9]]\n"
     ]
    }
   ],
   "source": [
    "#如何通过第n列对一个数组进行排序？\n",
    "data = np.random.randint(0,10,(3,3))\n",
    "print(data)"
   ]
  },
  {
   "cell_type": "code",
   "execution_count": 16,
   "metadata": {},
   "outputs": [
    {
     "name": "stdout",
     "output_type": "stream",
     "text": [
      "[[[2 8 4]\n",
      "  [1 5 9]\n",
      "  [8 4 3]]]\n"
     ]
    }
   ],
   "source": [
    "print(data[data[:1].argsort()])"
   ]
  },
  {
   "cell_type": "code",
   "execution_count": 18,
   "metadata": {},
   "outputs": [
    {
     "name": "stdout",
     "output_type": "stream",
     "text": [
      "True\n"
     ]
    }
   ],
   "source": [
    "#如何检查一个二维数组是否有空列？\n",
    "data = np.random.randint(0,3,(3,10))\n",
    "print((data.any(axis=0)).any())"
   ]
  },
  {
   "cell_type": "code",
   "execution_count": 19,
   "metadata": {},
   "outputs": [
    {
     "name": "stdout",
     "output_type": "stream",
     "text": [
      "1\n"
     ]
    }
   ],
   "source": [
    "#从数组中的给定值中找出最近的值\n",
    "daat = np.random.uniform(0,1,10)\n",
    "data1 = 0.5\n",
    "m = data.flat[np.abs(data-data1).argmin()]\n",
    "print(m)"
   ]
  },
  {
   "cell_type": "code",
   "execution_count": 20,
   "metadata": {},
   "outputs": [
    {
     "name": "stdout",
     "output_type": "stream",
     "text": [
      "[[0 1 2]\n",
      " [1 2 3]\n",
      " [2 3 4]]\n"
     ]
    }
   ],
   "source": [
    "#如何用迭代器(iterator)计算两个分别具有形状(1,3)和(3,1)的数组？\n",
    "A = np.arange(3).reshape(3,1)\n",
    "B = np.arange(3).reshape(1,3)\n",
    "data = np.nditer([A,B,None])\n",
    "for x,y,z in data:\n",
    "    z[...] = x+y\n",
    "print(data.operands[2])"
   ]
  },
  {
   "cell_type": "code",
   "execution_count": 21,
   "metadata": {},
   "outputs": [
    {
     "name": "stdout",
     "output_type": "stream",
     "text": [
      "range_10\n"
     ]
    }
   ],
   "source": [
    "#创建一个具有name属性的数组类\n",
    "class NamedArray(np.ndarray):\n",
    "    def __new__(cls,array,name=\"no name\"):\n",
    "        obj = np.asarray(array).view(cls)\n",
    "        obj.name = name\n",
    "        return obj\n",
    "    def __array_finalize__(self,obj):\n",
    "        if obj is None: return\n",
    "        self.info = getattr(obj, 'name', \"no name\")\n",
    "        \n",
    "Z = NamedArray(np.arange(10), \"range_10\")\n",
    "print(Z.name)"
   ]
  },
  {
   "cell_type": "code",
   "execution_count": 22,
   "metadata": {},
   "outputs": [
    {
     "name": "stdout",
     "output_type": "stream",
     "text": [
      "[2. 2. 4. 2. 5. 4. 2. 2. 4. 3.]\n"
     ]
    }
   ],
   "source": [
    "#考虑一个给定的向量，如何对由第二个向量索引的每个元素加1(小心重复的索引)？\n",
    "data = np.ones(10)\n",
    "data1 = np.random.randint(0,len(data),20)\n",
    "data += np.bincount(data1,minlength=len(data))\n",
    "print(data)"
   ]
  },
  {
   "cell_type": "code",
   "execution_count": 23,
   "metadata": {},
   "outputs": [
    {
     "name": "stdout",
     "output_type": "stream",
     "text": [
      "[2. 2. 6. 3. 3. 1. 3. 2. 3. 5.]\n"
     ]
    }
   ],
   "source": [
    "data = np.ones(10)\n",
    "data1 = np.random.randint(0,len(data),20)\n",
    "data += np.bincount(data1,minlength=len(data))\n",
    "print(data)"
   ]
  },
  {
   "cell_type": "code",
   "execution_count": 24,
   "metadata": {},
   "outputs": [
    {
     "name": "stdout",
     "output_type": "stream",
     "text": [
      "None\n"
     ]
    }
   ],
   "source": [
    "data = np.ones(10)\n",
    "data1 = np.random.randint(0,len(data),20)\n",
    "A = np.add.at(data,data1,1)\n",
    "print(A)"
   ]
  },
  {
   "cell_type": "code",
   "execution_count": 25,
   "metadata": {},
   "outputs": [
    {
     "name": "stdout",
     "output_type": "stream",
     "text": [
      "[0. 1. 3. 9. 3. 4. 1.]\n"
     ]
    }
   ],
   "source": [
    "#根据索引列表(I),如何将向量(X)的元素累加到数组(F)?\n",
    "x = [1,2,3,4,5,6]\n",
    "y = [1,3,9,3,4,1]\n",
    "F = np.bincount(x,y)\n",
    "print(F)"
   ]
  },
  {
   "cell_type": "code",
   "execution_count": 26,
   "metadata": {},
   "outputs": [
    {
     "name": "stdout",
     "output_type": "stream",
     "text": [
      "8\n"
     ]
    }
   ],
   "source": [
    "#考虑一个(dtype=ubyte)的(w,h,3)图像，计算其唯一颜色的数量\n",
    "w,h = 16,16\n",
    "data = np.random.randint(0,2,(h,w,3)).astype(np.ubyte)\n",
    "F = data[...,0]*(256*256) + data[...,1]*256 + data[...,2]\n",
    "n = len(np.unique(F))\n",
    "print(n)"
   ]
  },
  {
   "cell_type": "code",
   "execution_count": 27,
   "metadata": {},
   "outputs": [
    {
     "data": {
      "text/plain": [
       "array([[59, 58, 74, 48],\n",
       "       [57, 51, 41, 43],\n",
       "       [73, 49, 51, 52]])"
      ]
     },
     "execution_count": 27,
     "metadata": {},
     "output_type": "execute_result"
    }
   ],
   "source": [
    "#考虑一个四维数组，如何一次性计算出最后两个轴(axis)的和？\n",
    "data = np.random.randint(0,10,(3,4,3,4))\n",
    "sum = data.sum(axis=(-2,-1))\n",
    "sum"
   ]
  },
  {
   "cell_type": "code",
   "execution_count": 28,
   "metadata": {},
   "outputs": [
    {
     "name": "stdout",
     "output_type": "stream",
     "text": [
      "[0.37690144 0.59324959 0.66854532 0.56181233 0.46127023 0.54621294\n",
      " 0.55699403 0.44030644 0.33428458 0.40782186]\n"
     ]
    }
   ],
   "source": [
    "#考虑一个一维向量D，如何使用相同大小的向量S来计算D子集的均值？\n",
    "D = np.random.uniform(0,1,100)\n",
    "S = np.random.randint(0,10,100)\n",
    "D_sum = np.bincount(S,weights=D)\n",
    "D_counts = np.bincount(S)\n",
    "D_means = D_sum/D_counts\n",
    "print(D_means)"
   ]
  },
  {
   "cell_type": "code",
   "execution_count": 29,
   "metadata": {},
   "outputs": [
    {
     "name": "stdout",
     "output_type": "stream",
     "text": [
      "0    0.376901\n",
      "1    0.593250\n",
      "2    0.668545\n",
      "3    0.561812\n",
      "4    0.461270\n",
      "5    0.546213\n",
      "6    0.556994\n",
      "7    0.440306\n",
      "8    0.334285\n",
      "9    0.407822\n",
      "dtype: float64\n"
     ]
    }
   ],
   "source": [
    "import pandas as pd\n",
    "print(pd.Series(D).groupby(S).mean())"
   ]
  },
  {
   "cell_type": "code",
   "execution_count": 30,
   "metadata": {},
   "outputs": [
    {
     "data": {
      "text/plain": [
       "array([1.05354178, 0.63894041, 0.96625707, 1.15191079, 2.35214803])"
      ]
     },
     "execution_count": 30,
     "metadata": {},
     "output_type": "execute_result"
    }
   ],
   "source": [
    "#如何获得点积dot product的对角线？\n",
    "A = np.random.uniform(0,1,(5,5))\n",
    "B = np.random.uniform(0,1,(5,5))\n",
    "np.diag(np.dot(A,B))"
   ]
  },
  {
   "cell_type": "code",
   "execution_count": 31,
   "metadata": {},
   "outputs": [
    {
     "data": {
      "text/plain": [
       "array([1.05354178, 0.63894041, 0.96625707, 1.15191079, 2.35214803])"
      ]
     },
     "execution_count": 31,
     "metadata": {},
     "output_type": "execute_result"
    }
   ],
   "source": [
    "np.sum(A*B.T,axis=1)"
   ]
  },
  {
   "cell_type": "code",
   "execution_count": 32,
   "metadata": {},
   "outputs": [
    {
     "name": "stdout",
     "output_type": "stream",
     "text": [
      "[1. 0. 0. 0. 2. 0. 0. 0. 3. 0. 0. 0. 4. 0. 0. 0. 5.]\n"
     ]
    }
   ],
   "source": [
    "#考虑一个向量[1，2，3，4，5]，如何建立一个新的向量，在这个新向量中每个值之间有3个连续的零？\n",
    "data = np.array([1,2,3,4,5])\n",
    "nz = 3\n",
    "data1 = np.zeros(len(data)+(len(data)-1)*nz)\n",
    "data1[::nz+1] = data\n",
    "print(data1)"
   ]
  },
  {
   "cell_type": "code",
   "execution_count": 33,
   "metadata": {},
   "outputs": [
    {
     "name": "stdout",
     "output_type": "stream",
     "text": [
      "[[[2. 2. 2.]\n",
      "  [2. 2. 2.]\n",
      "  [2. 2. 2.]\n",
      "  [2. 2. 2.]\n",
      "  [2. 2. 2.]]\n",
      "\n",
      " [[2. 2. 2.]\n",
      "  [2. 2. 2.]\n",
      "  [2. 2. 2.]\n",
      "  [2. 2. 2.]\n",
      "  [2. 2. 2.]]\n",
      "\n",
      " [[2. 2. 2.]\n",
      "  [2. 2. 2.]\n",
      "  [2. 2. 2.]\n",
      "  [2. 2. 2.]\n",
      "  [2. 2. 2.]]\n",
      "\n",
      " [[2. 2. 2.]\n",
      "  [2. 2. 2.]\n",
      "  [2. 2. 2.]\n",
      "  [2. 2. 2.]\n",
      "  [2. 2. 2.]]\n",
      "\n",
      " [[2. 2. 2.]\n",
      "  [2. 2. 2.]\n",
      "  [2. 2. 2.]\n",
      "  [2. 2. 2.]\n",
      "  [2. 2. 2.]]]\n"
     ]
    }
   ],
   "source": [
    "#考虑一个维度(5,5,3)的数组，如何将其与一个(5,5)的数组相乘？\n",
    "A = np.ones((5,5,3))\n",
    "B = 2*np.ones((5,5))\n",
    "print(A*B[:,:,None])"
   ]
  },
  {
   "cell_type": "code",
   "execution_count": 34,
   "metadata": {},
   "outputs": [
    {
     "name": "stdout",
     "output_type": "stream",
     "text": [
      "[[ 5  6  7  8  9]\n",
      " [ 0  1  2  3  4]\n",
      " [10 11 12 13 14]\n",
      " [15 16 17 18 19]\n",
      " [20 21 22 23 24]]\n"
     ]
    }
   ],
   "source": [
    "#如何对一个数组中任意两行做交换？\n",
    "A = np.arange(25).reshape(5,5)\n",
    "A[[0,1]] = A[[1,0]]\n",
    "print(A)"
   ]
  },
  {
   "cell_type": "code",
   "execution_count": 35,
   "metadata": {},
   "outputs": [
    {
     "name": "stdout",
     "output_type": "stream",
     "text": [
      "[( 3, 28) ( 3, 38) ( 7, 31) ( 7, 79) ( 8, 40) ( 8, 83) (15, 47) (15, 63)\n",
      " (26, 41) (26, 83) (27, 43) (27, 78) (28, 38) (31, 79) (37, 55) (37, 90)\n",
      " (40, 83) (41, 83) (43, 67) (43, 73) (43, 78) (45, 69) (45, 86) (47, 63)\n",
      " (55, 90) (63, 75) (63, 78) (67, 73) (69, 86) (75, 78)]\n"
     ]
    }
   ],
   "source": [
    "#考虑一个可以描述10个三角形的triplets，找到可以分割全部三角形的linesegment\n",
    "face = np.random.randint(0,100,(10,3))\n",
    "F = np.roll(face.repeat(2,axis=1),-1,axis=1)\n",
    "F = F.reshape(len(F)*3,2)\n",
    "F = np.sort(F,axis=1)\n",
    "G = F.view(dtype=[(\"p0\",F.dtype),(\"p1\",F.dtype)])\n",
    "G = np.unique(G)\n",
    "print(G)"
   ]
  },
  {
   "cell_type": "code",
   "execution_count": 36,
   "metadata": {},
   "outputs": [
    {
     "name": "stdout",
     "output_type": "stream",
     "text": [
      "[0 2 1 1 2 0 1]\n"
     ]
    }
   ],
   "source": [
    "#给定一个二进制的数组C，如何产生一个数组A满足np.bincount(A)==C\n",
    "C = np.bincount([1,1,2,3,4,4,6])\n",
    "A = np.repeat(np.arange(len(C)),C)\n",
    "print(C)"
   ]
  },
  {
   "cell_type": "code",
   "execution_count": 37,
   "metadata": {},
   "outputs": [
    {
     "name": "stdout",
     "output_type": "stream",
     "text": [
      "[ 1.  2.  3.  4.  5.  6.  7.  8.  9. 10. 11. 12. 13. 14. 15. 16. 17. 18.]\n"
     ]
    }
   ],
   "source": [
    "#如何通过滑动窗口计算一个数组的平均数？\n",
    "def moving_average(a,n=3):\n",
    "    ret = np.cumsum(a,dtype=float)\n",
    "    ret[n:] = ret[n:] - ret[:-n]\n",
    "    return ret[n-1:]/n\n",
    "Z = np.arange(20)\n",
    "print(moving_average(Z,n=3))"
   ]
  },
  {
   "cell_type": "code",
   "execution_count": 38,
   "metadata": {},
   "outputs": [
    {
     "data": {
      "text/plain": [
       "array([0, 1, 1, 1, 1, 1, 0, 1, 1, 1, 1, 1, 1, 1, 1, 0, 1, 1, 0, 1, 0, 0,\n",
       "       0, 1, 1, 1, 0, 0, 1, 0, 1, 0, 1, 0, 0, 1, 0, 1, 1, 0, 1, 1, 0, 1,\n",
       "       0, 0, 0, 1, 0, 0, 1, 0, 0, 1, 0, 1, 0, 1, 0, 0, 0, 1, 0, 1, 1, 1,\n",
       "       1, 0, 0, 0, 1, 0, 0, 0, 0, 0, 1, 0, 0, 1, 0, 1, 0, 1, 0, 1, 1, 1,\n",
       "       1, 0, 1, 1, 0, 0, 1, 0, 0, 1, 0, 0])"
      ]
     },
     "execution_count": 38,
     "metadata": {},
     "output_type": "execute_result"
    }
   ],
   "source": [
    "#如何对布尔值取反，或者原位(in-place)改变浮点数的符号(sign)?\n",
    "data = np.random.randint(0,2,100)\n",
    "np.logical_not(data,out=data)"
   ]
  },
  {
   "cell_type": "code",
   "execution_count": 39,
   "metadata": {},
   "outputs": [
    {
     "data": {
      "text/plain": [
       "array([ 4.32968317e-01, -4.42288868e-01,  1.78464370e-01, -7.49431193e-01,\n",
       "       -8.63836586e-01,  5.91863947e-01, -8.24854968e-01, -3.77740132e-01,\n",
       "        8.01565540e-01, -7.19260311e-01,  8.42587488e-01, -4.07697512e-01,\n",
       "       -5.30906039e-01,  8.20971099e-01,  1.18225961e-01,  2.71289829e-03,\n",
       "        7.03267329e-01, -4.46617823e-01,  1.18708299e-01, -7.74265862e-01,\n",
       "        1.02930320e-01,  3.36009653e-01,  1.67322370e-01, -5.54206393e-01,\n",
       "       -2.28127430e-01, -6.18254338e-01,  8.06287355e-01,  5.14208221e-01,\n",
       "        5.64968282e-01, -8.05649607e-02, -1.60110451e-01,  7.15945500e-01,\n",
       "        4.64253149e-02, -6.42396692e-01, -3.50747883e-01,  5.05360711e-01,\n",
       "       -9.48533126e-01,  7.64678148e-01,  9.26942758e-01, -6.55997216e-01,\n",
       "        2.18589728e-01,  1.95937755e-01, -9.16135328e-01,  7.68712265e-01,\n",
       "        2.76468292e-02, -3.99496028e-01, -8.59237828e-01, -3.37793086e-04,\n",
       "       -3.51201621e-01,  6.01863644e-01,  6.35077998e-01,  9.47668251e-01,\n",
       "       -7.03056911e-02, -4.25257264e-01, -6.93274740e-02, -9.71053003e-01,\n",
       "        2.57058956e-01,  9.27062361e-01,  7.75851347e-01,  4.50746747e-01,\n",
       "       -4.12638076e-01, -2.98046687e-01,  2.93038347e-02, -7.47873055e-01,\n",
       "        7.00181654e-01, -6.79480326e-01,  4.86678830e-01, -2.31999635e-01,\n",
       "        3.15443085e-01,  9.10265076e-01, -3.22134307e-01,  3.16951265e-01,\n",
       "       -6.92029943e-02,  5.51072875e-01,  4.51306216e-01,  6.38289133e-02,\n",
       "        5.00476138e-01,  2.99729052e-02,  7.12140928e-01,  9.59079528e-01,\n",
       "        7.56902931e-01,  9.65443263e-01,  8.32738573e-01, -3.93925018e-01,\n",
       "       -5.88489781e-01,  7.70449096e-01,  2.26985115e-02, -9.50434941e-01,\n",
       "        6.69846396e-01,  7.85076706e-01, -3.45667442e-01, -3.16251964e-01,\n",
       "       -9.76472442e-01, -5.53215416e-01,  7.30189149e-01,  6.57338728e-01,\n",
       "       -4.68655217e-01, -2.74747865e-01,  3.39098957e-01,  4.84846998e-01])"
      ]
     },
     "execution_count": 39,
     "metadata": {},
     "output_type": "execute_result"
    }
   ],
   "source": [
    "data = np.random.uniform(-1.0,1.0,100)\n",
    "np.negative(data,out=data)"
   ]
  },
  {
   "cell_type": "code",
   "execution_count": 40,
   "metadata": {},
   "outputs": [
    {
     "name": "stdout",
     "output_type": "stream",
     "text": [
      "[ 9.07781328  1.99740409  6.58318502  7.22172507  8.83756586  5.33547565\n",
      "  6.45161674  9.64500859 12.3357261   5.8893993 ]\n"
     ]
    }
   ],
   "source": [
    "#考虑两组点集P0和P1去描述一组线(二维)和一个点p，如何计算点p到每一条线i(P0[i],P1[i])的距离？\n",
    "def distance(P0,P1,p):\n",
    "    T = P1-P0\n",
    "    L = (T**2).sum(axis=1)\n",
    "    U = -((P0[:,0]-p[...,0]*T[:,0] + (P0[:,1]-p[...,1])*T[:,1])/L)\n",
    "    U = U.reshape(len(U),1)\n",
    "    D = P0 + U*T - p\n",
    "    return np.sqrt((D**2).sum(axis=1))\n",
    "P0 = np.random.uniform(-10,10,(10,2))\n",
    "P1 = np.random.uniform(-10,10,(10,2))\n",
    "p = np.random.uniform(-10,10,(1,2))\n",
    "print(distance(P0,P1,p))"
   ]
  },
  {
   "cell_type": "code",
   "execution_count": 41,
   "metadata": {},
   "outputs": [
    {
     "name": "stdout",
     "output_type": "stream",
     "text": [
      "[[13.55455477 14.05133346  6.30151657 10.6197723   3.20305696 13.75289344\n",
      "   0.47321882  4.17440106 14.2866549   6.72232968]\n",
      " [12.618688    4.05440745 15.90921033 15.78780435 12.92003124  4.25662457\n",
      "  14.10038208 11.61838885  1.82632756  8.96622734]\n",
      " [ 8.66617823  5.18672162  3.99412973  9.34767715  4.44029526  1.94935856\n",
      "   7.44813038  6.20220765 10.21086442 10.52928138]\n",
      " [ 9.04948741  6.12761736  6.20138576  9.00798145  3.45293743  4.4701103\n",
      "  16.28879309  4.37691786  1.71468603 16.20097817]\n",
      " [ 8.63901236  5.3615503  10.23443417 10.73280285  7.32697934  2.04723542\n",
      "  16.50549538  7.36583771  1.62814258 14.00614924]\n",
      " [13.3228998   5.59189833 14.12229795 14.9401088  11.03041687  6.87902237\n",
      "  10.63383661  9.3295944   2.61269769  7.16988546]\n",
      " [ 8.53174858  4.04988934  5.88045476  9.09020152  3.12939053  0.92787106\n",
      "  12.48955777  3.90277711  4.40638974 12.67880248]\n",
      " [ 9.45132602 12.946908    4.45513864  9.11785344  5.78787072 10.42399803\n",
      "   1.24400344  8.98526546 17.52952078  5.94637798]\n",
      " [10.40422524  6.53123285  7.99995134 10.58636633  4.88055167  6.10797999\n",
      "   7.75573112  4.30952349  7.09389098  7.52729172]\n",
      " [12.99449354 13.79967379  5.78539872 10.23692463  2.87045376 13.28253727\n",
      "   0.40618216  4.44606171 14.48587233  6.5223849 ]]\n"
     ]
    }
   ],
   "source": [
    "#考虑两组点集P0和P1去描述一组线(二维)和一组点集P，如何计算每一个点j(P[j])到每一条线i(P0[i],P1[i])的距离？\n",
    "p0 = np.random.uniform(-10,10,(10,2))\n",
    "p1 = np.random.uniform(-10,10,(10,2))\n",
    "p = np.random.uniform(-10,10,(10,2))\n",
    "print(np.array([distance(p0,p1,p_i) for p_i in p]))"
   ]
  },
  {
   "cell_type": "code",
   "execution_count": null,
   "metadata": {},
   "outputs": [],
   "source": []
  }
 ],
 "metadata": {
  "kernelspec": {
   "display_name": "Python 3",
   "language": "python",
   "name": "python3"
  },
  "language_info": {
   "codemirror_mode": {
    "name": "ipython",
    "version": 3
   },
   "file_extension": ".py",
   "mimetype": "text/x-python",
   "name": "python",
   "nbconvert_exporter": "python",
   "pygments_lexer": "ipython3",
   "version": "3.7.4"
  }
 },
 "nbformat": 4,
 "nbformat_minor": 2
}
